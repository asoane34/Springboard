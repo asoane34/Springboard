{
 "cells": [
  {
   "cell_type": "markdown",
   "metadata": {},
   "source": [
    "# Mini Project: Tree-Based Algorithms"
   ]
  },
  {
   "cell_type": "markdown",
   "metadata": {},
   "source": [
    "## The \"German Credit\" Dataset"
   ]
  },
  {
   "cell_type": "markdown",
   "metadata": {},
   "source": [
    "### Dataset Details"
   ]
  },
  {
   "cell_type": "markdown",
   "metadata": {},
   "source": [
    "This dataset has two classes (these would be considered labels in Machine Learning terms) to describe the worthiness of a personal loan: \"Good\" or \"Bad\". There are predictors related to attributes, such as: checking account status, duration, credit history, purpose of the loan, amount of the loan, savings accounts or bonds, employment duration, installment rate in percentage of disposable income, personal information, other debtors/guarantors, residence duration, property, age, other installment plans, housing, number of existing credits, job information, number of people being liable to provide maintenance for, telephone, and foreign worker status.\n",
    "\n",
    "Many of these predictors are discrete and have been expanded into several 0/1 indicator variables (a.k.a. they have been one-hot-encoded).\n",
    "\n",
    "This dataset has been kindly provided by Professor Dr. Hans Hofmann of the University of Hamburg, and can also be found on the UCI Machine Learning Repository."
   ]
  },
  {
   "cell_type": "markdown",
   "metadata": {},
   "source": [
    "## Decision Trees"
   ]
  },
  {
   "cell_type": "markdown",
   "metadata": {},
   "source": [
    " As we have learned in the previous lectures, Decision Trees as a family of algorithms (irrespective to the particular implementation) are powerful algorithms that can produce models with a predictive accuracy higher than that produced by linear models, such as Linear or Logistic Regression. Primarily, this is due to the fact the DT's can model nonlinear relationships, and also have a number of tuning paramters, that allow for the practicioner to achieve the best possible model. An added bonus is the ability to visualize the trained Decision Tree model, which allows for some insight into how the model has produced the predictions that it has. One caveat here, to keep in mind, is that sometimes, due to the size of the dataset (both in the sense of the number of records, as well as the number of features), the visualization might prove to be very large and complex, increasing the difficulty of interpretation."
   ]
  },
  {
   "cell_type": "markdown",
   "metadata": {},
   "source": [
    "To give you a very good example of how Decision Trees can be visualized and interpreted, we would strongly recommend that, before continuing on with solving the problems in this Mini Project, you take the time to read this fanstastic, detailed and informative blog post: http://explained.ai/decision-tree-viz/index.html"
   ]
  },
  {
   "cell_type": "markdown",
   "metadata": {},
   "source": [
    "## Building Your First Decision Tree Model"
   ]
  },
  {
   "cell_type": "markdown",
   "metadata": {},
   "source": [
    "So, now it's time to jump straight into the heart of the matter. Your first task, is to build a Decision Tree model, using the aforementioned \"German Credit\" dataset, which contains 1,000 records, and 62 columns (one of them presents the labels, and the other 61 present the potential features for the model.)"
   ]
  },
  {
   "cell_type": "markdown",
   "metadata": {},
   "source": [
    "For this task, you will be using the scikit-learn library, which comes already pre-installed with the Anaconda Python distribution. In case you're not using that, you can easily install it using pip."
   ]
  },
  {
   "cell_type": "markdown",
   "metadata": {},
   "source": [
    "Before embarking on creating your first model, we would strongly encourage you to read the short tutorial for Decision Trees in scikit-learn (http://scikit-learn.org/stable/modules/tree.html), and then dive a bit deeper into the documentation of the algorithm itself (http://scikit-learn.org/stable/modules/generated/sklearn.tree.DecisionTreeClassifier.html). "
   ]
  },
  {
   "cell_type": "markdown",
   "metadata": {},
   "source": [
    "Also, since you want to be able to present the results of your model, we suggest you take a look at the tutorial for accuracy metrics for classification models (http://scikit-learn.org/stable/modules/model_evaluation.html#classification-report) as well as the more detailed documentation (http://scikit-learn.org/stable/modules/generated/sklearn.metrics.classification_report.html).\n",
    "\n",
    "Finally, an *amazing* resource that explains the various classification model accuracy metrics, as well as the relationships between them, can be found on Wikipedia: https://en.wikipedia.org/wiki/Confusion_matrix"
   ]
  },
  {
   "cell_type": "markdown",
   "metadata": {},
   "source": [
    "(Note: as you've already learned in the Logistic Regression mini project, a standard practice in Machine Learning for achieving the best possible result when training a model is to use hyperparameter tuning, through Grid Search and k-fold Cross Validation. We strongly encourage you to use it here as well, not just because it's standard practice, but also becuase it's not going to be computationally to intensive, due to the size of the dataset that you're working with. Our suggestion here is that you split the data into 70% training, and 30% testing. Then, do the hyperparameter tuning and Cross Validation on the training set, and afterwards to a final test on the testing set.)"
   ]
  },
  {
   "cell_type": "markdown",
   "metadata": {},
   "source": [
    "### Now we pass the torch onto you! You can start building your first Decision Tree model! :)"
   ]
  },
  {
   "cell_type": "code",
   "execution_count": 1,
   "metadata": {},
   "outputs": [],
   "source": [
    "import pandas as pd\n",
    "from sklearn.tree import DecisionTreeClassifier\n",
    "from sklearn.metrics import classification_report, accuracy_score\n",
    "from sklearn.model_selection import train_test_split, KFold\n",
    "from sklearn.model_selection import GridSearchCV"
   ]
  },
  {
   "cell_type": "code",
   "execution_count": 2,
   "metadata": {},
   "outputs": [
    {
     "name": "stdout",
     "output_type": "stream",
     "text": [
      "<class 'pandas.core.frame.DataFrame'>\n",
      "RangeIndex: 1000 entries, 0 to 999\n",
      "Data columns (total 62 columns):\n",
      "Duration                                  1000 non-null int64\n",
      "Amount                                    1000 non-null int64\n",
      "InstallmentRatePercentage                 1000 non-null int64\n",
      "ResidenceDuration                         1000 non-null int64\n",
      "Age                                       1000 non-null int64\n",
      "NumberExistingCredits                     1000 non-null int64\n",
      "NumberPeopleMaintenance                   1000 non-null int64\n",
      "Telephone                                 1000 non-null int64\n",
      "ForeignWorker                             1000 non-null int64\n",
      "Class                                     1000 non-null object\n",
      "CheckingAccountStatus.lt.0                1000 non-null int64\n",
      "CheckingAccountStatus.0.to.200            1000 non-null int64\n",
      "CheckingAccountStatus.gt.200              1000 non-null int64\n",
      "CheckingAccountStatus.none                1000 non-null int64\n",
      "CreditHistory.NoCredit.AllPaid            1000 non-null int64\n",
      "CreditHistory.ThisBank.AllPaid            1000 non-null int64\n",
      "CreditHistory.PaidDuly                    1000 non-null int64\n",
      "CreditHistory.Delay                       1000 non-null int64\n",
      "CreditHistory.Critical                    1000 non-null int64\n",
      "Purpose.NewCar                            1000 non-null int64\n",
      "Purpose.UsedCar                           1000 non-null int64\n",
      "Purpose.Furniture.Equipment               1000 non-null int64\n",
      "Purpose.Radio.Television                  1000 non-null int64\n",
      "Purpose.DomesticAppliance                 1000 non-null int64\n",
      "Purpose.Repairs                           1000 non-null int64\n",
      "Purpose.Education                         1000 non-null int64\n",
      "Purpose.Vacation                          1000 non-null int64\n",
      "Purpose.Retraining                        1000 non-null int64\n",
      "Purpose.Business                          1000 non-null int64\n",
      "Purpose.Other                             1000 non-null int64\n",
      "SavingsAccountBonds.lt.100                1000 non-null int64\n",
      "SavingsAccountBonds.100.to.500            1000 non-null int64\n",
      "SavingsAccountBonds.500.to.1000           1000 non-null int64\n",
      "SavingsAccountBonds.gt.1000               1000 non-null int64\n",
      "SavingsAccountBonds.Unknown               1000 non-null int64\n",
      "EmploymentDuration.lt.1                   1000 non-null int64\n",
      "EmploymentDuration.1.to.4                 1000 non-null int64\n",
      "EmploymentDuration.4.to.7                 1000 non-null int64\n",
      "EmploymentDuration.gt.7                   1000 non-null int64\n",
      "EmploymentDuration.Unemployed             1000 non-null int64\n",
      "Personal.Male.Divorced.Seperated          1000 non-null int64\n",
      "Personal.Female.NotSingle                 1000 non-null int64\n",
      "Personal.Male.Single                      1000 non-null int64\n",
      "Personal.Male.Married.Widowed             1000 non-null int64\n",
      "Personal.Female.Single                    1000 non-null int64\n",
      "OtherDebtorsGuarantors.None               1000 non-null int64\n",
      "OtherDebtorsGuarantors.CoApplicant        1000 non-null int64\n",
      "OtherDebtorsGuarantors.Guarantor          1000 non-null int64\n",
      "Property.RealEstate                       1000 non-null int64\n",
      "Property.Insurance                        1000 non-null int64\n",
      "Property.CarOther                         1000 non-null int64\n",
      "Property.Unknown                          1000 non-null int64\n",
      "OtherInstallmentPlans.Bank                1000 non-null int64\n",
      "OtherInstallmentPlans.Stores              1000 non-null int64\n",
      "OtherInstallmentPlans.None                1000 non-null int64\n",
      "Housing.Rent                              1000 non-null int64\n",
      "Housing.Own                               1000 non-null int64\n",
      "Housing.ForFree                           1000 non-null int64\n",
      "Job.UnemployedUnskilled                   1000 non-null int64\n",
      "Job.UnskilledResident                     1000 non-null int64\n",
      "Job.SkilledEmployee                       1000 non-null int64\n",
      "Job.Management.SelfEmp.HighlyQualified    1000 non-null int64\n",
      "dtypes: int64(61), object(1)\n",
      "memory usage: 484.5+ KB\n"
     ]
    }
   ],
   "source": [
    "credit_df = pd.read_csv('data/GermanCredit.csv')\n",
    "credit_df.info()"
   ]
  },
  {
   "cell_type": "code",
   "execution_count": 3,
   "metadata": {},
   "outputs": [
    {
     "data": {
      "text/html": [
       "<div>\n",
       "<style scoped>\n",
       "    .dataframe tbody tr th:only-of-type {\n",
       "        vertical-align: middle;\n",
       "    }\n",
       "\n",
       "    .dataframe tbody tr th {\n",
       "        vertical-align: top;\n",
       "    }\n",
       "\n",
       "    .dataframe thead th {\n",
       "        text-align: right;\n",
       "    }\n",
       "</style>\n",
       "<table border=\"1\" class=\"dataframe\">\n",
       "  <thead>\n",
       "    <tr style=\"text-align: right;\">\n",
       "      <th></th>\n",
       "      <th>Duration</th>\n",
       "      <th>Amount</th>\n",
       "      <th>InstallmentRatePercentage</th>\n",
       "      <th>ResidenceDuration</th>\n",
       "      <th>Age</th>\n",
       "      <th>NumberExistingCredits</th>\n",
       "      <th>NumberPeopleMaintenance</th>\n",
       "      <th>Telephone</th>\n",
       "      <th>ForeignWorker</th>\n",
       "      <th>Class</th>\n",
       "      <th>CheckingAccountStatus.lt.0</th>\n",
       "      <th>CheckingAccountStatus.0.to.200</th>\n",
       "      <th>CheckingAccountStatus.gt.200</th>\n",
       "      <th>CheckingAccountStatus.none</th>\n",
       "      <th>CreditHistory.NoCredit.AllPaid</th>\n",
       "      <th>CreditHistory.ThisBank.AllPaid</th>\n",
       "      <th>CreditHistory.PaidDuly</th>\n",
       "      <th>CreditHistory.Delay</th>\n",
       "      <th>CreditHistory.Critical</th>\n",
       "      <th>Purpose.NewCar</th>\n",
       "      <th>Purpose.UsedCar</th>\n",
       "      <th>Purpose.Furniture.Equipment</th>\n",
       "      <th>Purpose.Radio.Television</th>\n",
       "      <th>Purpose.DomesticAppliance</th>\n",
       "      <th>Purpose.Repairs</th>\n",
       "      <th>Purpose.Education</th>\n",
       "      <th>Purpose.Vacation</th>\n",
       "      <th>Purpose.Retraining</th>\n",
       "      <th>Purpose.Business</th>\n",
       "      <th>Purpose.Other</th>\n",
       "      <th>SavingsAccountBonds.lt.100</th>\n",
       "      <th>SavingsAccountBonds.100.to.500</th>\n",
       "      <th>SavingsAccountBonds.500.to.1000</th>\n",
       "      <th>SavingsAccountBonds.gt.1000</th>\n",
       "      <th>SavingsAccountBonds.Unknown</th>\n",
       "      <th>EmploymentDuration.lt.1</th>\n",
       "      <th>EmploymentDuration.1.to.4</th>\n",
       "      <th>EmploymentDuration.4.to.7</th>\n",
       "      <th>EmploymentDuration.gt.7</th>\n",
       "      <th>EmploymentDuration.Unemployed</th>\n",
       "      <th>Personal.Male.Divorced.Seperated</th>\n",
       "      <th>Personal.Female.NotSingle</th>\n",
       "      <th>Personal.Male.Single</th>\n",
       "      <th>Personal.Male.Married.Widowed</th>\n",
       "      <th>Personal.Female.Single</th>\n",
       "      <th>OtherDebtorsGuarantors.None</th>\n",
       "      <th>OtherDebtorsGuarantors.CoApplicant</th>\n",
       "      <th>OtherDebtorsGuarantors.Guarantor</th>\n",
       "      <th>Property.RealEstate</th>\n",
       "      <th>Property.Insurance</th>\n",
       "      <th>Property.CarOther</th>\n",
       "      <th>Property.Unknown</th>\n",
       "      <th>OtherInstallmentPlans.Bank</th>\n",
       "      <th>OtherInstallmentPlans.Stores</th>\n",
       "      <th>OtherInstallmentPlans.None</th>\n",
       "      <th>Housing.Rent</th>\n",
       "      <th>Housing.Own</th>\n",
       "      <th>Housing.ForFree</th>\n",
       "      <th>Job.UnemployedUnskilled</th>\n",
       "      <th>Job.UnskilledResident</th>\n",
       "      <th>Job.SkilledEmployee</th>\n",
       "      <th>Job.Management.SelfEmp.HighlyQualified</th>\n",
       "    </tr>\n",
       "  </thead>\n",
       "  <tbody>\n",
       "    <tr>\n",
       "      <td>0</td>\n",
       "      <td>6</td>\n",
       "      <td>1169</td>\n",
       "      <td>4</td>\n",
       "      <td>4</td>\n",
       "      <td>67</td>\n",
       "      <td>2</td>\n",
       "      <td>1</td>\n",
       "      <td>0</td>\n",
       "      <td>1</td>\n",
       "      <td>Good</td>\n",
       "      <td>1</td>\n",
       "      <td>0</td>\n",
       "      <td>0</td>\n",
       "      <td>0</td>\n",
       "      <td>0</td>\n",
       "      <td>0</td>\n",
       "      <td>0</td>\n",
       "      <td>0</td>\n",
       "      <td>1</td>\n",
       "      <td>0</td>\n",
       "      <td>0</td>\n",
       "      <td>0</td>\n",
       "      <td>1</td>\n",
       "      <td>0</td>\n",
       "      <td>0</td>\n",
       "      <td>0</td>\n",
       "      <td>0</td>\n",
       "      <td>0</td>\n",
       "      <td>0</td>\n",
       "      <td>0</td>\n",
       "      <td>0</td>\n",
       "      <td>0</td>\n",
       "      <td>0</td>\n",
       "      <td>0</td>\n",
       "      <td>1</td>\n",
       "      <td>0</td>\n",
       "      <td>0</td>\n",
       "      <td>0</td>\n",
       "      <td>1</td>\n",
       "      <td>0</td>\n",
       "      <td>0</td>\n",
       "      <td>0</td>\n",
       "      <td>1</td>\n",
       "      <td>0</td>\n",
       "      <td>0</td>\n",
       "      <td>1</td>\n",
       "      <td>0</td>\n",
       "      <td>0</td>\n",
       "      <td>1</td>\n",
       "      <td>0</td>\n",
       "      <td>0</td>\n",
       "      <td>0</td>\n",
       "      <td>0</td>\n",
       "      <td>0</td>\n",
       "      <td>1</td>\n",
       "      <td>0</td>\n",
       "      <td>1</td>\n",
       "      <td>0</td>\n",
       "      <td>0</td>\n",
       "      <td>0</td>\n",
       "      <td>1</td>\n",
       "      <td>0</td>\n",
       "    </tr>\n",
       "    <tr>\n",
       "      <td>1</td>\n",
       "      <td>48</td>\n",
       "      <td>5951</td>\n",
       "      <td>2</td>\n",
       "      <td>2</td>\n",
       "      <td>22</td>\n",
       "      <td>1</td>\n",
       "      <td>1</td>\n",
       "      <td>1</td>\n",
       "      <td>1</td>\n",
       "      <td>Bad</td>\n",
       "      <td>0</td>\n",
       "      <td>1</td>\n",
       "      <td>0</td>\n",
       "      <td>0</td>\n",
       "      <td>0</td>\n",
       "      <td>0</td>\n",
       "      <td>1</td>\n",
       "      <td>0</td>\n",
       "      <td>0</td>\n",
       "      <td>0</td>\n",
       "      <td>0</td>\n",
       "      <td>0</td>\n",
       "      <td>1</td>\n",
       "      <td>0</td>\n",
       "      <td>0</td>\n",
       "      <td>0</td>\n",
       "      <td>0</td>\n",
       "      <td>0</td>\n",
       "      <td>0</td>\n",
       "      <td>0</td>\n",
       "      <td>1</td>\n",
       "      <td>0</td>\n",
       "      <td>0</td>\n",
       "      <td>0</td>\n",
       "      <td>0</td>\n",
       "      <td>0</td>\n",
       "      <td>1</td>\n",
       "      <td>0</td>\n",
       "      <td>0</td>\n",
       "      <td>0</td>\n",
       "      <td>0</td>\n",
       "      <td>1</td>\n",
       "      <td>0</td>\n",
       "      <td>0</td>\n",
       "      <td>0</td>\n",
       "      <td>1</td>\n",
       "      <td>0</td>\n",
       "      <td>0</td>\n",
       "      <td>1</td>\n",
       "      <td>0</td>\n",
       "      <td>0</td>\n",
       "      <td>0</td>\n",
       "      <td>0</td>\n",
       "      <td>0</td>\n",
       "      <td>1</td>\n",
       "      <td>0</td>\n",
       "      <td>1</td>\n",
       "      <td>0</td>\n",
       "      <td>0</td>\n",
       "      <td>0</td>\n",
       "      <td>1</td>\n",
       "      <td>0</td>\n",
       "    </tr>\n",
       "    <tr>\n",
       "      <td>2</td>\n",
       "      <td>12</td>\n",
       "      <td>2096</td>\n",
       "      <td>2</td>\n",
       "      <td>3</td>\n",
       "      <td>49</td>\n",
       "      <td>1</td>\n",
       "      <td>2</td>\n",
       "      <td>1</td>\n",
       "      <td>1</td>\n",
       "      <td>Good</td>\n",
       "      <td>0</td>\n",
       "      <td>0</td>\n",
       "      <td>0</td>\n",
       "      <td>1</td>\n",
       "      <td>0</td>\n",
       "      <td>0</td>\n",
       "      <td>0</td>\n",
       "      <td>0</td>\n",
       "      <td>1</td>\n",
       "      <td>0</td>\n",
       "      <td>0</td>\n",
       "      <td>0</td>\n",
       "      <td>0</td>\n",
       "      <td>0</td>\n",
       "      <td>0</td>\n",
       "      <td>1</td>\n",
       "      <td>0</td>\n",
       "      <td>0</td>\n",
       "      <td>0</td>\n",
       "      <td>0</td>\n",
       "      <td>1</td>\n",
       "      <td>0</td>\n",
       "      <td>0</td>\n",
       "      <td>0</td>\n",
       "      <td>0</td>\n",
       "      <td>0</td>\n",
       "      <td>0</td>\n",
       "      <td>1</td>\n",
       "      <td>0</td>\n",
       "      <td>0</td>\n",
       "      <td>0</td>\n",
       "      <td>0</td>\n",
       "      <td>1</td>\n",
       "      <td>0</td>\n",
       "      <td>0</td>\n",
       "      <td>1</td>\n",
       "      <td>0</td>\n",
       "      <td>0</td>\n",
       "      <td>1</td>\n",
       "      <td>0</td>\n",
       "      <td>0</td>\n",
       "      <td>0</td>\n",
       "      <td>0</td>\n",
       "      <td>0</td>\n",
       "      <td>1</td>\n",
       "      <td>0</td>\n",
       "      <td>1</td>\n",
       "      <td>0</td>\n",
       "      <td>0</td>\n",
       "      <td>1</td>\n",
       "      <td>0</td>\n",
       "      <td>0</td>\n",
       "    </tr>\n",
       "    <tr>\n",
       "      <td>3</td>\n",
       "      <td>42</td>\n",
       "      <td>7882</td>\n",
       "      <td>2</td>\n",
       "      <td>4</td>\n",
       "      <td>45</td>\n",
       "      <td>1</td>\n",
       "      <td>2</td>\n",
       "      <td>1</td>\n",
       "      <td>1</td>\n",
       "      <td>Good</td>\n",
       "      <td>1</td>\n",
       "      <td>0</td>\n",
       "      <td>0</td>\n",
       "      <td>0</td>\n",
       "      <td>0</td>\n",
       "      <td>0</td>\n",
       "      <td>1</td>\n",
       "      <td>0</td>\n",
       "      <td>0</td>\n",
       "      <td>0</td>\n",
       "      <td>0</td>\n",
       "      <td>1</td>\n",
       "      <td>0</td>\n",
       "      <td>0</td>\n",
       "      <td>0</td>\n",
       "      <td>0</td>\n",
       "      <td>0</td>\n",
       "      <td>0</td>\n",
       "      <td>0</td>\n",
       "      <td>0</td>\n",
       "      <td>1</td>\n",
       "      <td>0</td>\n",
       "      <td>0</td>\n",
       "      <td>0</td>\n",
       "      <td>0</td>\n",
       "      <td>0</td>\n",
       "      <td>0</td>\n",
       "      <td>1</td>\n",
       "      <td>0</td>\n",
       "      <td>0</td>\n",
       "      <td>0</td>\n",
       "      <td>0</td>\n",
       "      <td>1</td>\n",
       "      <td>0</td>\n",
       "      <td>0</td>\n",
       "      <td>0</td>\n",
       "      <td>0</td>\n",
       "      <td>1</td>\n",
       "      <td>0</td>\n",
       "      <td>1</td>\n",
       "      <td>0</td>\n",
       "      <td>0</td>\n",
       "      <td>0</td>\n",
       "      <td>0</td>\n",
       "      <td>1</td>\n",
       "      <td>0</td>\n",
       "      <td>0</td>\n",
       "      <td>1</td>\n",
       "      <td>0</td>\n",
       "      <td>0</td>\n",
       "      <td>1</td>\n",
       "      <td>0</td>\n",
       "    </tr>\n",
       "    <tr>\n",
       "      <td>4</td>\n",
       "      <td>24</td>\n",
       "      <td>4870</td>\n",
       "      <td>3</td>\n",
       "      <td>4</td>\n",
       "      <td>53</td>\n",
       "      <td>2</td>\n",
       "      <td>2</td>\n",
       "      <td>1</td>\n",
       "      <td>1</td>\n",
       "      <td>Bad</td>\n",
       "      <td>1</td>\n",
       "      <td>0</td>\n",
       "      <td>0</td>\n",
       "      <td>0</td>\n",
       "      <td>0</td>\n",
       "      <td>0</td>\n",
       "      <td>0</td>\n",
       "      <td>1</td>\n",
       "      <td>0</td>\n",
       "      <td>1</td>\n",
       "      <td>0</td>\n",
       "      <td>0</td>\n",
       "      <td>0</td>\n",
       "      <td>0</td>\n",
       "      <td>0</td>\n",
       "      <td>0</td>\n",
       "      <td>0</td>\n",
       "      <td>0</td>\n",
       "      <td>0</td>\n",
       "      <td>0</td>\n",
       "      <td>1</td>\n",
       "      <td>0</td>\n",
       "      <td>0</td>\n",
       "      <td>0</td>\n",
       "      <td>0</td>\n",
       "      <td>0</td>\n",
       "      <td>1</td>\n",
       "      <td>0</td>\n",
       "      <td>0</td>\n",
       "      <td>0</td>\n",
       "      <td>0</td>\n",
       "      <td>0</td>\n",
       "      <td>1</td>\n",
       "      <td>0</td>\n",
       "      <td>0</td>\n",
       "      <td>1</td>\n",
       "      <td>0</td>\n",
       "      <td>0</td>\n",
       "      <td>0</td>\n",
       "      <td>0</td>\n",
       "      <td>0</td>\n",
       "      <td>1</td>\n",
       "      <td>0</td>\n",
       "      <td>0</td>\n",
       "      <td>1</td>\n",
       "      <td>0</td>\n",
       "      <td>0</td>\n",
       "      <td>1</td>\n",
       "      <td>0</td>\n",
       "      <td>0</td>\n",
       "      <td>1</td>\n",
       "      <td>0</td>\n",
       "    </tr>\n",
       "  </tbody>\n",
       "</table>\n",
       "</div>"
      ],
      "text/plain": [
       "   Duration  Amount  InstallmentRatePercentage  ResidenceDuration  Age  \\\n",
       "0         6    1169                          4                  4   67   \n",
       "1        48    5951                          2                  2   22   \n",
       "2        12    2096                          2                  3   49   \n",
       "3        42    7882                          2                  4   45   \n",
       "4        24    4870                          3                  4   53   \n",
       "\n",
       "   NumberExistingCredits  NumberPeopleMaintenance  Telephone  ForeignWorker  \\\n",
       "0                      2                        1          0              1   \n",
       "1                      1                        1          1              1   \n",
       "2                      1                        2          1              1   \n",
       "3                      1                        2          1              1   \n",
       "4                      2                        2          1              1   \n",
       "\n",
       "  Class  CheckingAccountStatus.lt.0  CheckingAccountStatus.0.to.200  \\\n",
       "0  Good                           1                               0   \n",
       "1   Bad                           0                               1   \n",
       "2  Good                           0                               0   \n",
       "3  Good                           1                               0   \n",
       "4   Bad                           1                               0   \n",
       "\n",
       "   CheckingAccountStatus.gt.200  CheckingAccountStatus.none  \\\n",
       "0                             0                           0   \n",
       "1                             0                           0   \n",
       "2                             0                           1   \n",
       "3                             0                           0   \n",
       "4                             0                           0   \n",
       "\n",
       "   CreditHistory.NoCredit.AllPaid  CreditHistory.ThisBank.AllPaid  \\\n",
       "0                               0                               0   \n",
       "1                               0                               0   \n",
       "2                               0                               0   \n",
       "3                               0                               0   \n",
       "4                               0                               0   \n",
       "\n",
       "   CreditHistory.PaidDuly  CreditHistory.Delay  CreditHistory.Critical  \\\n",
       "0                       0                    0                       1   \n",
       "1                       1                    0                       0   \n",
       "2                       0                    0                       1   \n",
       "3                       1                    0                       0   \n",
       "4                       0                    1                       0   \n",
       "\n",
       "   Purpose.NewCar  Purpose.UsedCar  Purpose.Furniture.Equipment  \\\n",
       "0               0                0                            0   \n",
       "1               0                0                            0   \n",
       "2               0                0                            0   \n",
       "3               0                0                            1   \n",
       "4               1                0                            0   \n",
       "\n",
       "   Purpose.Radio.Television  Purpose.DomesticAppliance  Purpose.Repairs  \\\n",
       "0                         1                          0                0   \n",
       "1                         1                          0                0   \n",
       "2                         0                          0                0   \n",
       "3                         0                          0                0   \n",
       "4                         0                          0                0   \n",
       "\n",
       "   Purpose.Education  Purpose.Vacation  Purpose.Retraining  Purpose.Business  \\\n",
       "0                  0                 0                   0                 0   \n",
       "1                  0                 0                   0                 0   \n",
       "2                  1                 0                   0                 0   \n",
       "3                  0                 0                   0                 0   \n",
       "4                  0                 0                   0                 0   \n",
       "\n",
       "   Purpose.Other  SavingsAccountBonds.lt.100  SavingsAccountBonds.100.to.500  \\\n",
       "0              0                           0                               0   \n",
       "1              0                           1                               0   \n",
       "2              0                           1                               0   \n",
       "3              0                           1                               0   \n",
       "4              0                           1                               0   \n",
       "\n",
       "   SavingsAccountBonds.500.to.1000  SavingsAccountBonds.gt.1000  \\\n",
       "0                                0                            0   \n",
       "1                                0                            0   \n",
       "2                                0                            0   \n",
       "3                                0                            0   \n",
       "4                                0                            0   \n",
       "\n",
       "   SavingsAccountBonds.Unknown  EmploymentDuration.lt.1  \\\n",
       "0                            1                        0   \n",
       "1                            0                        0   \n",
       "2                            0                        0   \n",
       "3                            0                        0   \n",
       "4                            0                        0   \n",
       "\n",
       "   EmploymentDuration.1.to.4  EmploymentDuration.4.to.7  \\\n",
       "0                          0                          0   \n",
       "1                          1                          0   \n",
       "2                          0                          1   \n",
       "3                          0                          1   \n",
       "4                          1                          0   \n",
       "\n",
       "   EmploymentDuration.gt.7  EmploymentDuration.Unemployed  \\\n",
       "0                        1                              0   \n",
       "1                        0                              0   \n",
       "2                        0                              0   \n",
       "3                        0                              0   \n",
       "4                        0                              0   \n",
       "\n",
       "   Personal.Male.Divorced.Seperated  Personal.Female.NotSingle  \\\n",
       "0                                 0                          0   \n",
       "1                                 0                          1   \n",
       "2                                 0                          0   \n",
       "3                                 0                          0   \n",
       "4                                 0                          0   \n",
       "\n",
       "   Personal.Male.Single  Personal.Male.Married.Widowed  \\\n",
       "0                     1                              0   \n",
       "1                     0                              0   \n",
       "2                     1                              0   \n",
       "3                     1                              0   \n",
       "4                     1                              0   \n",
       "\n",
       "   Personal.Female.Single  OtherDebtorsGuarantors.None  \\\n",
       "0                       0                            1   \n",
       "1                       0                            1   \n",
       "2                       0                            1   \n",
       "3                       0                            0   \n",
       "4                       0                            1   \n",
       "\n",
       "   OtherDebtorsGuarantors.CoApplicant  OtherDebtorsGuarantors.Guarantor  \\\n",
       "0                                   0                                 0   \n",
       "1                                   0                                 0   \n",
       "2                                   0                                 0   \n",
       "3                                   0                                 1   \n",
       "4                                   0                                 0   \n",
       "\n",
       "   Property.RealEstate  Property.Insurance  Property.CarOther  \\\n",
       "0                    1                   0                  0   \n",
       "1                    1                   0                  0   \n",
       "2                    1                   0                  0   \n",
       "3                    0                   1                  0   \n",
       "4                    0                   0                  0   \n",
       "\n",
       "   Property.Unknown  OtherInstallmentPlans.Bank  OtherInstallmentPlans.Stores  \\\n",
       "0                 0                           0                             0   \n",
       "1                 0                           0                             0   \n",
       "2                 0                           0                             0   \n",
       "3                 0                           0                             0   \n",
       "4                 1                           0                             0   \n",
       "\n",
       "   OtherInstallmentPlans.None  Housing.Rent  Housing.Own  Housing.ForFree  \\\n",
       "0                           1             0            1                0   \n",
       "1                           1             0            1                0   \n",
       "2                           1             0            1                0   \n",
       "3                           1             0            0                1   \n",
       "4                           1             0            0                1   \n",
       "\n",
       "   Job.UnemployedUnskilled  Job.UnskilledResident  Job.SkilledEmployee  \\\n",
       "0                        0                      0                    1   \n",
       "1                        0                      0                    1   \n",
       "2                        0                      1                    0   \n",
       "3                        0                      0                    1   \n",
       "4                        0                      0                    1   \n",
       "\n",
       "   Job.Management.SelfEmp.HighlyQualified  \n",
       "0                                       0  \n",
       "1                                       0  \n",
       "2                                       0  \n",
       "3                                       0  \n",
       "4                                       0  "
      ]
     },
     "execution_count": 3,
     "metadata": {},
     "output_type": "execute_result"
    }
   ],
   "source": [
    "pd.set_option('display.max_columns', 500)\n",
    "credit_df.head()"
   ]
  },
  {
   "cell_type": "code",
   "execution_count": 3,
   "metadata": {},
   "outputs": [],
   "source": [
    "X = credit_df.drop(columns = ['Class'])\n",
    "y = credit_df['Class']"
   ]
  },
  {
   "cell_type": "code",
   "execution_count": 4,
   "metadata": {},
   "outputs": [],
   "source": [
    "x_train, x_test, y_train, y_test = train_test_split(X, y, test_size = 0.2, random_state = 323)"
   ]
  },
  {
   "cell_type": "code",
   "execution_count": 12,
   "metadata": {},
   "outputs": [
    {
     "name": "stdout",
     "output_type": "stream",
     "text": [
      "The accuracy score was: 0.68\n",
      "              precision    recall  f1-score   support\n",
      "\n",
      "         Bad       0.44      0.55      0.49        56\n",
      "        Good       0.81      0.73      0.77       144\n",
      "\n",
      "   micro avg       0.68      0.68      0.68       200\n",
      "   macro avg       0.63      0.64      0.63       200\n",
      "weighted avg       0.71      0.68      0.69       200\n",
      "\n"
     ]
    }
   ],
   "source": [
    "dtc_base = DecisionTreeClassifier(random_state = 10)\n",
    "dtc_base.fit(x_train, y_train)\n",
    "predictions = dtc_base.predict(x_test)\n",
    "print('The accuracy score was: {}'.format(accuracy_score(y_test, predictions)))\n",
    "print(classification_report(y_test, predictions))"
   ]
  },
  {
   "cell_type": "code",
   "execution_count": 13,
   "metadata": {},
   "outputs": [
    {
     "data": {
      "text/plain": [
       "{'class_weight': None,\n",
       " 'criterion': 'gini',\n",
       " 'max_depth': None,\n",
       " 'max_features': None,\n",
       " 'max_leaf_nodes': None,\n",
       " 'min_impurity_decrease': 0.0,\n",
       " 'min_impurity_split': None,\n",
       " 'min_samples_leaf': 1,\n",
       " 'min_samples_split': 2,\n",
       " 'min_weight_fraction_leaf': 0.0,\n",
       " 'presort': False,\n",
       " 'random_state': 10,\n",
       " 'splitter': 'best'}"
      ]
     },
     "execution_count": 13,
     "metadata": {},
     "output_type": "execute_result"
    }
   ],
   "source": [
    "dtc_base.get_params()"
   ]
  },
  {
   "cell_type": "code",
   "execution_count": 16,
   "metadata": {},
   "outputs": [],
   "source": [
    "cross_validation = KFold(n_splits = 10, random_state = 134)"
   ]
  },
  {
   "cell_type": "code",
   "execution_count": 18,
   "metadata": {},
   "outputs": [
    {
     "name": "stdout",
     "output_type": "stream",
     "text": [
      "Scoring Metric Used: accuracy\n",
      "The best score was: 0.745\n",
      "The best parameters were: {'criterion': 'entropy', 'max_depth': 5, 'max_features': 23, 'splitter': 'random'}\n",
      "The accuracy score was: 0.7\n",
      "              precision    recall  f1-score   support\n",
      "\n",
      "         Bad       0.46      0.45      0.45        56\n",
      "        Good       0.79      0.80      0.79       144\n",
      "\n",
      "   micro avg       0.70      0.70      0.70       200\n",
      "   macro avg       0.63      0.62      0.62       200\n",
      "weighted avg       0.70      0.70      0.70       200\n",
      "\n",
      "Scoring Metric Used: precision_macro\n",
      "The best score was: 0.7024090758534388\n",
      "The best parameters were: {'criterion': 'gini', 'max_depth': 3, 'max_features': 29, 'splitter': 'random'}\n",
      "The accuracy score was: 0.765\n",
      "              precision    recall  f1-score   support\n",
      "\n",
      "         Bad       0.61      0.45      0.52        56\n",
      "        Good       0.81      0.89      0.84       144\n",
      "\n",
      "   micro avg       0.77      0.77      0.77       200\n",
      "   macro avg       0.71      0.67      0.68       200\n",
      "weighted avg       0.75      0.77      0.75       200\n",
      "\n",
      "Scoring Metric Used: recall_macro\n",
      "The best score was: 0.6879472500852245\n",
      "The best parameters were: {'criterion': 'entropy', 'max_depth': 5, 'max_features': 23, 'splitter': 'random'}\n",
      "The accuracy score was: 0.7\n",
      "              precision    recall  f1-score   support\n",
      "\n",
      "         Bad       0.46      0.45      0.45        56\n",
      "        Good       0.79      0.80      0.79       144\n",
      "\n",
      "   micro avg       0.70      0.70      0.70       200\n",
      "   macro avg       0.63      0.62      0.62       200\n",
      "weighted avg       0.70      0.70      0.70       200\n",
      "\n",
      "Scoring Metric Used: f1_macro\n",
      "The best score was: 0.6907245976209356\n",
      "The best parameters were: {'criterion': 'entropy', 'max_depth': 5, 'max_features': 23, 'splitter': 'random'}\n",
      "The accuracy score was: 0.7\n",
      "              precision    recall  f1-score   support\n",
      "\n",
      "         Bad       0.46      0.45      0.45        56\n",
      "        Good       0.79      0.80      0.79       144\n",
      "\n",
      "   micro avg       0.70      0.70      0.70       200\n",
      "   macro avg       0.63      0.62      0.62       200\n",
      "weighted avg       0.70      0.70      0.70       200\n",
      "\n"
     ]
    }
   ],
   "source": [
    "import warnings\n",
    "from sklearn.exceptions import UndefinedMetricWarning\n",
    "warnings.filterwarnings(action='ignore', category=UndefinedMetricWarning)\n",
    "\n",
    "metrics = ['accuracy', 'precision_macro', 'recall_macro', 'f1_macro']\n",
    "\n",
    "parameter_grid = {'criterion' : ['gini', 'entropy'],\n",
    "                 'splitter' : ['random', 'best'],\n",
    "                 'max_depth' : range(1, 15, 2),\n",
    "                 'max_features' : range(1, 50, 2),\n",
    "                 }\n",
    "for metric in metrics:\n",
    "    dtc = DecisionTreeClassifier(random_state = 1)\n",
    "    best_model = GridSearchCV(dtc, param_grid = parameter_grid, cv = cross_validation, scoring = metric)\n",
    "    best_model.fit(x_train, y_train)\n",
    "    print('Scoring Metric Used: {}'.format(metric))\n",
    "    print()\n",
    "    print('The best score was: {}'.format(best_model.best_score_))\n",
    "    print()\n",
    "    print('The best parameters were: {}'.format(best_model.best_params_))\n",
    "    print()\n",
    "    predictions = best_model.predict(x_test)\n",
    "    print('The accuracy score was: {}'.format(accuracy_score(y_test, predictions)))\n",
    "    print()\n",
    "    print(classification_report(y_test, predictions))\n"
   ]
  },
  {
   "cell_type": "code",
   "execution_count": 14,
   "metadata": {},
   "outputs": [
    {
     "name": "stdout",
     "output_type": "stream",
     "text": [
      "The accuracy score was: 0.765\n",
      "              precision    recall  f1-score   support\n",
      "\n",
      "         Bad       0.61      0.45      0.52        56\n",
      "        Good       0.81      0.89      0.84       144\n",
      "\n",
      "   micro avg       0.77      0.77      0.77       200\n",
      "   macro avg       0.71      0.67      0.68       200\n",
      "weighted avg       0.75      0.77      0.75       200\n",
      "\n"
     ]
    }
   ],
   "source": [
    "final_model = DecisionTreeClassifier(criterion = 'gini', max_depth = 3, max_features = 29, splitter = 'random',\n",
    "                                    random_state = 1)\n",
    "final_model.fit(x_train, y_train)\n",
    "predictions = final_model.predict(x_test)\n",
    "print('The accuracy score was: {}'.format(accuracy_score(y_test, predictions)))\n",
    "print(classification_report(y_test, predictions))"
   ]
  },
  {
   "cell_type": "markdown",
   "metadata": {},
   "source": [
    "### After you've built the best model you can, now it's time to visualize it!"
   ]
  },
  {
   "cell_type": "markdown",
   "metadata": {},
   "source": [
    "Rememeber that amazing blog post from a few paragraphs ago, that demonstrated how to visualize and interpret the results of your Decision Tree model. We've seen that this can perform very well, but let's see how it does on the \"German Credit\" dataset that we're working on, due to it being a bit larger than the one used by the blog authors."
   ]
  },
  {
   "cell_type": "markdown",
   "metadata": {},
   "source": [
    "First, we're going to need to install their package. If you're using Anaconda, this can be done easily by running:"
   ]
  },
  {
   "cell_type": "markdown",
   "metadata": {},
   "source": [
    "If for any reason this way of installing doesn't work for you straight out of the box, please refer to the more detailed documentation here: https://github.com/parrt/dtreeviz"
   ]
  },
  {
   "cell_type": "markdown",
   "metadata": {},
   "source": [
    "Now you're ready to visualize your Decision Tree model! Please feel free to use the blog post for guidance and inspiration!"
   ]
  },
  {
   "cell_type": "code",
   "execution_count": 26,
   "metadata": {},
   "outputs": [],
   "source": [
    "import graphviz\n",
    "from sklearn import tree\n",
    "from IPython.display import display"
   ]
  },
  {
   "cell_type": "code",
   "execution_count": 27,
   "metadata": {},
   "outputs": [
    {
     "data": {
      "image/svg+xml": [
       "<?xml version=\"1.0\" encoding=\"UTF-8\" standalone=\"no\"?>\n",
       "<!DOCTYPE svg PUBLIC \"-//W3C//DTD SVG 1.1//EN\"\n",
       " \"http://www.w3.org/Graphics/SVG/1.1/DTD/svg11.dtd\">\n",
       "<!-- Generated by graphviz version 2.40.1 (20161225.0304)\n",
       " -->\n",
       "<!-- Title: Tree Pages: 1 -->\n",
       "<svg width=\"977pt\" height=\"433pt\"\n",
       " viewBox=\"0.00 0.00 977.00 433.00\" xmlns=\"http://www.w3.org/2000/svg\" xmlns:xlink=\"http://www.w3.org/1999/xlink\">\n",
       "<g id=\"graph0\" class=\"graph\" transform=\"scale(1 1) rotate(0) translate(4 429)\">\n",
       "<title>Tree</title>\n",
       "<polygon fill=\"#ffffff\" stroke=\"transparent\" points=\"-4,4 -4,-429 973,-429 973,4 -4,4\"/>\n",
       "<!-- 0 -->\n",
       "<g id=\"node1\" class=\"node\">\n",
       "<title>0</title>\n",
       "<polygon fill=\"none\" stroke=\"#000000\" points=\"600,-425 372,-425 372,-342 600,-342 600,-425\"/>\n",
       "<text text-anchor=\"middle\" x=\"486\" y=\"-409.8\" font-family=\"Times,serif\" font-size=\"14.00\" fill=\"#000000\">CheckingAccountStatus.lt.0 &lt;= 0.112</text>\n",
       "<text text-anchor=\"middle\" x=\"486\" y=\"-394.8\" font-family=\"Times,serif\" font-size=\"14.00\" fill=\"#000000\">gini = 0.424</text>\n",
       "<text text-anchor=\"middle\" x=\"486\" y=\"-379.8\" font-family=\"Times,serif\" font-size=\"14.00\" fill=\"#000000\">samples = 800</text>\n",
       "<text text-anchor=\"middle\" x=\"486\" y=\"-364.8\" font-family=\"Times,serif\" font-size=\"14.00\" fill=\"#000000\">value = [244, 556]</text>\n",
       "<text text-anchor=\"middle\" x=\"486\" y=\"-349.8\" font-family=\"Times,serif\" font-size=\"14.00\" fill=\"#000000\">class = y[1]</text>\n",
       "</g>\n",
       "<!-- 1 -->\n",
       "<g id=\"node2\" class=\"node\">\n",
       "<title>1</title>\n",
       "<polygon fill=\"none\" stroke=\"#000000\" points=\"493,-306 237,-306 237,-223 493,-223 493,-306\"/>\n",
       "<text text-anchor=\"middle\" x=\"365\" y=\"-290.8\" font-family=\"Times,serif\" font-size=\"14.00\" fill=\"#000000\">CheckingAccountStatus.0.to.200 &lt;= 0.236</text>\n",
       "<text text-anchor=\"middle\" x=\"365\" y=\"-275.8\" font-family=\"Times,serif\" font-size=\"14.00\" fill=\"#000000\">gini = 0.355</text>\n",
       "<text text-anchor=\"middle\" x=\"365\" y=\"-260.8\" font-family=\"Times,serif\" font-size=\"14.00\" fill=\"#000000\">samples = 585</text>\n",
       "<text text-anchor=\"middle\" x=\"365\" y=\"-245.8\" font-family=\"Times,serif\" font-size=\"14.00\" fill=\"#000000\">value = [135, 450]</text>\n",
       "<text text-anchor=\"middle\" x=\"365\" y=\"-230.8\" font-family=\"Times,serif\" font-size=\"14.00\" fill=\"#000000\">class = y[1]</text>\n",
       "</g>\n",
       "<!-- 0&#45;&gt;1 -->\n",
       "<g id=\"edge1\" class=\"edge\">\n",
       "<title>0&#45;&gt;1</title>\n",
       "<path fill=\"none\" stroke=\"#000000\" d=\"M443.6801,-341.8796C434.3392,-332.6931 424.361,-322.8798 414.756,-313.4336\"/>\n",
       "<polygon fill=\"#000000\" stroke=\"#000000\" points=\"417.0845,-310.8146 407.5006,-306.2981 412.1762,-315.8054 417.0845,-310.8146\"/>\n",
       "<text text-anchor=\"middle\" x=\"407.7089\" y=\"-327.5972\" font-family=\"Times,serif\" font-size=\"14.00\" fill=\"#000000\">True</text>\n",
       "</g>\n",
       "<!-- 8 -->\n",
       "<g id=\"node9\" class=\"node\">\n",
       "<title>8</title>\n",
       "<polygon fill=\"none\" stroke=\"#000000\" points=\"704.5,-306 511.5,-306 511.5,-223 704.5,-223 704.5,-306\"/>\n",
       "<text text-anchor=\"middle\" x=\"608\" y=\"-290.8\" font-family=\"Times,serif\" font-size=\"14.00\" fill=\"#000000\">CreditHistory.Critical &lt;= 0.876</text>\n",
       "<text text-anchor=\"middle\" x=\"608\" y=\"-275.8\" font-family=\"Times,serif\" font-size=\"14.00\" fill=\"#000000\">gini = 0.5</text>\n",
       "<text text-anchor=\"middle\" x=\"608\" y=\"-260.8\" font-family=\"Times,serif\" font-size=\"14.00\" fill=\"#000000\">samples = 215</text>\n",
       "<text text-anchor=\"middle\" x=\"608\" y=\"-245.8\" font-family=\"Times,serif\" font-size=\"14.00\" fill=\"#000000\">value = [109, 106]</text>\n",
       "<text text-anchor=\"middle\" x=\"608\" y=\"-230.8\" font-family=\"Times,serif\" font-size=\"14.00\" fill=\"#000000\">class = y[0]</text>\n",
       "</g>\n",
       "<!-- 0&#45;&gt;8 -->\n",
       "<g id=\"edge8\" class=\"edge\">\n",
       "<title>0&#45;&gt;8</title>\n",
       "<path fill=\"none\" stroke=\"#000000\" d=\"M528.6697,-341.8796C538.0877,-332.6931 548.1484,-322.8798 557.8328,-313.4336\"/>\n",
       "<polygon fill=\"#000000\" stroke=\"#000000\" points=\"560.4335,-315.7861 565.1482,-306.2981 555.5457,-310.7751 560.4335,-315.7861\"/>\n",
       "<text text-anchor=\"middle\" x=\"564.837\" y=\"-327.5961\" font-family=\"Times,serif\" font-size=\"14.00\" fill=\"#000000\">False</text>\n",
       "</g>\n",
       "<!-- 2 -->\n",
       "<g id=\"node3\" class=\"node\">\n",
       "<title>2</title>\n",
       "<polygon fill=\"none\" stroke=\"#000000\" points=\"287,-187 57,-187 57,-104 287,-104 287,-187\"/>\n",
       "<text text-anchor=\"middle\" x=\"172\" y=\"-171.8\" font-family=\"Times,serif\" font-size=\"14.00\" fill=\"#000000\">OtherInstallmentPlans.None &lt;= 0.825</text>\n",
       "<text text-anchor=\"middle\" x=\"172\" y=\"-156.8\" font-family=\"Times,serif\" font-size=\"14.00\" fill=\"#000000\">gini = 0.238</text>\n",
       "<text text-anchor=\"middle\" x=\"172\" y=\"-141.8\" font-family=\"Times,serif\" font-size=\"14.00\" fill=\"#000000\">samples = 362</text>\n",
       "<text text-anchor=\"middle\" x=\"172\" y=\"-126.8\" font-family=\"Times,serif\" font-size=\"14.00\" fill=\"#000000\">value = [50, 312]</text>\n",
       "<text text-anchor=\"middle\" x=\"172\" y=\"-111.8\" font-family=\"Times,serif\" font-size=\"14.00\" fill=\"#000000\">class = y[1]</text>\n",
       "</g>\n",
       "<!-- 1&#45;&gt;2 -->\n",
       "<g id=\"edge2\" class=\"edge\">\n",
       "<title>1&#45;&gt;2</title>\n",
       "<path fill=\"none\" stroke=\"#000000\" d=\"M297.498,-222.8796C281.6308,-213.0962 264.6106,-202.6019 248.3844,-192.5971\"/>\n",
       "<polygon fill=\"#000000\" stroke=\"#000000\" points=\"249.8129,-189.3661 239.4639,-187.0969 246.139,-195.3245 249.8129,-189.3661\"/>\n",
       "</g>\n",
       "<!-- 5 -->\n",
       "<g id=\"node6\" class=\"node\">\n",
       "<title>5</title>\n",
       "<polygon fill=\"none\" stroke=\"#000000\" points=\"443,-187 305,-187 305,-104 443,-104 443,-187\"/>\n",
       "<text text-anchor=\"middle\" x=\"374\" y=\"-171.8\" font-family=\"Times,serif\" font-size=\"14.00\" fill=\"#000000\">Amount &lt;= 9698.104</text>\n",
       "<text text-anchor=\"middle\" x=\"374\" y=\"-156.8\" font-family=\"Times,serif\" font-size=\"14.00\" fill=\"#000000\">gini = 0.472</text>\n",
       "<text text-anchor=\"middle\" x=\"374\" y=\"-141.8\" font-family=\"Times,serif\" font-size=\"14.00\" fill=\"#000000\">samples = 223</text>\n",
       "<text text-anchor=\"middle\" x=\"374\" y=\"-126.8\" font-family=\"Times,serif\" font-size=\"14.00\" fill=\"#000000\">value = [85, 138]</text>\n",
       "<text text-anchor=\"middle\" x=\"374\" y=\"-111.8\" font-family=\"Times,serif\" font-size=\"14.00\" fill=\"#000000\">class = y[1]</text>\n",
       "</g>\n",
       "<!-- 1&#45;&gt;5 -->\n",
       "<g id=\"edge5\" class=\"edge\">\n",
       "<title>1&#45;&gt;5</title>\n",
       "<path fill=\"none\" stroke=\"#000000\" d=\"M368.1478,-222.8796C368.7676,-214.6838 369.4252,-205.9891 370.0671,-197.5013\"/>\n",
       "<polygon fill=\"#000000\" stroke=\"#000000\" points=\"373.5746,-197.5336 370.8388,-187.2981 366.5945,-197.0056 373.5746,-197.5336\"/>\n",
       "</g>\n",
       "<!-- 3 -->\n",
       "<g id=\"node4\" class=\"node\">\n",
       "<title>3</title>\n",
       "<polygon fill=\"none\" stroke=\"#000000\" points=\"106,-68 0,-68 0,0 106,0 106,-68\"/>\n",
       "<text text-anchor=\"middle\" x=\"53\" y=\"-52.8\" font-family=\"Times,serif\" font-size=\"14.00\" fill=\"#000000\">gini = 0.412</text>\n",
       "<text text-anchor=\"middle\" x=\"53\" y=\"-37.8\" font-family=\"Times,serif\" font-size=\"14.00\" fill=\"#000000\">samples = 62</text>\n",
       "<text text-anchor=\"middle\" x=\"53\" y=\"-22.8\" font-family=\"Times,serif\" font-size=\"14.00\" fill=\"#000000\">value = [18, 44]</text>\n",
       "<text text-anchor=\"middle\" x=\"53\" y=\"-7.8\" font-family=\"Times,serif\" font-size=\"14.00\" fill=\"#000000\">class = y[1]</text>\n",
       "</g>\n",
       "<!-- 2&#45;&gt;3 -->\n",
       "<g id=\"edge3\" class=\"edge\">\n",
       "<title>2&#45;&gt;3</title>\n",
       "<path fill=\"none\" stroke=\"#000000\" d=\"M127.6888,-103.9815C117.6837,-94.607 107.0646,-84.6572 97.0696,-75.2921\"/>\n",
       "<polygon fill=\"#000000\" stroke=\"#000000\" points=\"99.2588,-72.547 89.5684,-68.2637 94.4726,-77.6551 99.2588,-72.547\"/>\n",
       "</g>\n",
       "<!-- 4 -->\n",
       "<g id=\"node5\" class=\"node\">\n",
       "<title>4</title>\n",
       "<polygon fill=\"none\" stroke=\"#000000\" points=\"237.5,-68 124.5,-68 124.5,0 237.5,0 237.5,-68\"/>\n",
       "<text text-anchor=\"middle\" x=\"181\" y=\"-52.8\" font-family=\"Times,serif\" font-size=\"14.00\" fill=\"#000000\">gini = 0.191</text>\n",
       "<text text-anchor=\"middle\" x=\"181\" y=\"-37.8\" font-family=\"Times,serif\" font-size=\"14.00\" fill=\"#000000\">samples = 300</text>\n",
       "<text text-anchor=\"middle\" x=\"181\" y=\"-22.8\" font-family=\"Times,serif\" font-size=\"14.00\" fill=\"#000000\">value = [32, 268]</text>\n",
       "<text text-anchor=\"middle\" x=\"181\" y=\"-7.8\" font-family=\"Times,serif\" font-size=\"14.00\" fill=\"#000000\">class = y[1]</text>\n",
       "</g>\n",
       "<!-- 2&#45;&gt;4 -->\n",
       "<g id=\"edge4\" class=\"edge\">\n",
       "<title>2&#45;&gt;4</title>\n",
       "<path fill=\"none\" stroke=\"#000000\" d=\"M175.3513,-103.9815C176.0263,-95.618 176.7384,-86.7965 177.4209,-78.3409\"/>\n",
       "<polygon fill=\"#000000\" stroke=\"#000000\" points=\"180.9183,-78.5129 178.2343,-68.2637 173.941,-77.9496 180.9183,-78.5129\"/>\n",
       "</g>\n",
       "<!-- 6 -->\n",
       "<g id=\"node7\" class=\"node\">\n",
       "<title>6</title>\n",
       "<polygon fill=\"none\" stroke=\"#000000\" points=\"368.5,-68 255.5,-68 255.5,0 368.5,0 368.5,-68\"/>\n",
       "<text text-anchor=\"middle\" x=\"312\" y=\"-52.8\" font-family=\"Times,serif\" font-size=\"14.00\" fill=\"#000000\">gini = 0.453</text>\n",
       "<text text-anchor=\"middle\" x=\"312\" y=\"-37.8\" font-family=\"Times,serif\" font-size=\"14.00\" fill=\"#000000\">samples = 205</text>\n",
       "<text text-anchor=\"middle\" x=\"312\" y=\"-22.8\" font-family=\"Times,serif\" font-size=\"14.00\" fill=\"#000000\">value = [71, 134]</text>\n",
       "<text text-anchor=\"middle\" x=\"312\" y=\"-7.8\" font-family=\"Times,serif\" font-size=\"14.00\" fill=\"#000000\">class = y[1]</text>\n",
       "</g>\n",
       "<!-- 5&#45;&gt;6 -->\n",
       "<g id=\"edge6\" class=\"edge\">\n",
       "<title>5&#45;&gt;6</title>\n",
       "<path fill=\"none\" stroke=\"#000000\" d=\"M350.9135,-103.9815C346.0585,-95.2504 340.926,-86.0202 336.0371,-77.2281\"/>\n",
       "<polygon fill=\"#000000\" stroke=\"#000000\" points=\"338.9712,-75.3025 331.0524,-68.2637 332.8533,-78.7043 338.9712,-75.3025\"/>\n",
       "</g>\n",
       "<!-- 7 -->\n",
       "<g id=\"node8\" class=\"node\">\n",
       "<title>7</title>\n",
       "<polygon fill=\"none\" stroke=\"#000000\" points=\"485.5,-68 386.5,-68 386.5,0 485.5,0 485.5,-68\"/>\n",
       "<text text-anchor=\"middle\" x=\"436\" y=\"-52.8\" font-family=\"Times,serif\" font-size=\"14.00\" fill=\"#000000\">gini = 0.346</text>\n",
       "<text text-anchor=\"middle\" x=\"436\" y=\"-37.8\" font-family=\"Times,serif\" font-size=\"14.00\" fill=\"#000000\">samples = 18</text>\n",
       "<text text-anchor=\"middle\" x=\"436\" y=\"-22.8\" font-family=\"Times,serif\" font-size=\"14.00\" fill=\"#000000\">value = [14, 4]</text>\n",
       "<text text-anchor=\"middle\" x=\"436\" y=\"-7.8\" font-family=\"Times,serif\" font-size=\"14.00\" fill=\"#000000\">class = y[0]</text>\n",
       "</g>\n",
       "<!-- 5&#45;&gt;7 -->\n",
       "<g id=\"edge7\" class=\"edge\">\n",
       "<title>5&#45;&gt;7</title>\n",
       "<path fill=\"none\" stroke=\"#000000\" d=\"M397.0865,-103.9815C401.9415,-95.2504 407.074,-86.0202 411.9629,-77.2281\"/>\n",
       "<polygon fill=\"#000000\" stroke=\"#000000\" points=\"415.1467,-78.7043 416.9476,-68.2637 409.0288,-75.3025 415.1467,-78.7043\"/>\n",
       "</g>\n",
       "<!-- 9 -->\n",
       "<g id=\"node10\" class=\"node\">\n",
       "<title>9</title>\n",
       "<polygon fill=\"none\" stroke=\"#000000\" points=\"721.5,-187 478.5,-187 478.5,-104 721.5,-104 721.5,-187\"/>\n",
       "<text text-anchor=\"middle\" x=\"600\" y=\"-171.8\" font-family=\"Times,serif\" font-size=\"14.00\" fill=\"#000000\">OtherDebtorsGuarantors.None &lt;= 0.933</text>\n",
       "<text text-anchor=\"middle\" x=\"600\" y=\"-156.8\" font-family=\"Times,serif\" font-size=\"14.00\" fill=\"#000000\">gini = 0.492</text>\n",
       "<text text-anchor=\"middle\" x=\"600\" y=\"-141.8\" font-family=\"Times,serif\" font-size=\"14.00\" fill=\"#000000\">samples = 163</text>\n",
       "<text text-anchor=\"middle\" x=\"600\" y=\"-126.8\" font-family=\"Times,serif\" font-size=\"14.00\" fill=\"#000000\">value = [92, 71]</text>\n",
       "<text text-anchor=\"middle\" x=\"600\" y=\"-111.8\" font-family=\"Times,serif\" font-size=\"14.00\" fill=\"#000000\">class = y[0]</text>\n",
       "</g>\n",
       "<!-- 8&#45;&gt;9 -->\n",
       "<g id=\"edge9\" class=\"edge\">\n",
       "<title>8&#45;&gt;9</title>\n",
       "<path fill=\"none\" stroke=\"#000000\" d=\"M605.202,-222.8796C604.651,-214.6838 604.0665,-205.9891 603.4959,-197.5013\"/>\n",
       "<polygon fill=\"#000000\" stroke=\"#000000\" points=\"606.9729,-197.0408 602.81,-187.2981 599.9887,-197.5103 606.9729,-197.0408\"/>\n",
       "</g>\n",
       "<!-- 12 -->\n",
       "<g id=\"node13\" class=\"node\">\n",
       "<title>12</title>\n",
       "<polygon fill=\"none\" stroke=\"#000000\" points=\"868,-187 740,-187 740,-104 868,-104 868,-187\"/>\n",
       "<text text-anchor=\"middle\" x=\"804\" y=\"-171.8\" font-family=\"Times,serif\" font-size=\"14.00\" fill=\"#000000\">Duration &lt;= 14.164</text>\n",
       "<text text-anchor=\"middle\" x=\"804\" y=\"-156.8\" font-family=\"Times,serif\" font-size=\"14.00\" fill=\"#000000\">gini = 0.44</text>\n",
       "<text text-anchor=\"middle\" x=\"804\" y=\"-141.8\" font-family=\"Times,serif\" font-size=\"14.00\" fill=\"#000000\">samples = 52</text>\n",
       "<text text-anchor=\"middle\" x=\"804\" y=\"-126.8\" font-family=\"Times,serif\" font-size=\"14.00\" fill=\"#000000\">value = [17, 35]</text>\n",
       "<text text-anchor=\"middle\" x=\"804\" y=\"-111.8\" font-family=\"Times,serif\" font-size=\"14.00\" fill=\"#000000\">class = y[1]</text>\n",
       "</g>\n",
       "<!-- 8&#45;&gt;12 -->\n",
       "<g id=\"edge12\" class=\"edge\">\n",
       "<title>8&#45;&gt;12</title>\n",
       "<path fill=\"none\" stroke=\"#000000\" d=\"M676.5513,-222.8796C694.1968,-212.1662 713.2465,-200.6004 731.1038,-189.7584\"/>\n",
       "<polygon fill=\"#000000\" stroke=\"#000000\" points=\"733.0315,-192.6827 739.7629,-184.5011 729.3986,-186.6992 733.0315,-192.6827\"/>\n",
       "</g>\n",
       "<!-- 10 -->\n",
       "<g id=\"node11\" class=\"node\">\n",
       "<title>10</title>\n",
       "<polygon fill=\"none\" stroke=\"#000000\" points=\"602.5,-68 503.5,-68 503.5,0 602.5,0 602.5,-68\"/>\n",
       "<text text-anchor=\"middle\" x=\"553\" y=\"-52.8\" font-family=\"Times,serif\" font-size=\"14.00\" fill=\"#000000\">gini = 0.375</text>\n",
       "<text text-anchor=\"middle\" x=\"553\" y=\"-37.8\" font-family=\"Times,serif\" font-size=\"14.00\" fill=\"#000000\">samples = 20</text>\n",
       "<text text-anchor=\"middle\" x=\"553\" y=\"-22.8\" font-family=\"Times,serif\" font-size=\"14.00\" fill=\"#000000\">value = [5, 15]</text>\n",
       "<text text-anchor=\"middle\" x=\"553\" y=\"-7.8\" font-family=\"Times,serif\" font-size=\"14.00\" fill=\"#000000\">class = y[1]</text>\n",
       "</g>\n",
       "<!-- 9&#45;&gt;10 -->\n",
       "<g id=\"edge10\" class=\"edge\">\n",
       "<title>9&#45;&gt;10</title>\n",
       "<path fill=\"none\" stroke=\"#000000\" d=\"M582.4989,-103.9815C578.8573,-95.3423 575.0097,-86.2144 571.3388,-77.5059\"/>\n",
       "<polygon fill=\"#000000\" stroke=\"#000000\" points=\"574.5525,-76.119 567.443,-68.2637 568.1021,-78.838 574.5525,-76.119\"/>\n",
       "</g>\n",
       "<!-- 11 -->\n",
       "<g id=\"node12\" class=\"node\">\n",
       "<title>11</title>\n",
       "<polygon fill=\"none\" stroke=\"#000000\" points=\"727,-68 621,-68 621,0 727,0 727,-68\"/>\n",
       "<text text-anchor=\"middle\" x=\"674\" y=\"-52.8\" font-family=\"Times,serif\" font-size=\"14.00\" fill=\"#000000\">gini = 0.477</text>\n",
       "<text text-anchor=\"middle\" x=\"674\" y=\"-37.8\" font-family=\"Times,serif\" font-size=\"14.00\" fill=\"#000000\">samples = 143</text>\n",
       "<text text-anchor=\"middle\" x=\"674\" y=\"-22.8\" font-family=\"Times,serif\" font-size=\"14.00\" fill=\"#000000\">value = [87, 56]</text>\n",
       "<text text-anchor=\"middle\" x=\"674\" y=\"-7.8\" font-family=\"Times,serif\" font-size=\"14.00\" fill=\"#000000\">class = y[0]</text>\n",
       "</g>\n",
       "<!-- 9&#45;&gt;11 -->\n",
       "<g id=\"edge11\" class=\"edge\">\n",
       "<title>9&#45;&gt;11</title>\n",
       "<path fill=\"none\" stroke=\"#000000\" d=\"M627.5549,-103.9815C633.4715,-95.0666 639.7335,-85.6313 645.6787,-76.6734\"/>\n",
       "<polygon fill=\"#000000\" stroke=\"#000000\" points=\"648.6464,-78.5311 651.26,-68.2637 642.814,-74.6602 648.6464,-78.5311\"/>\n",
       "</g>\n",
       "<!-- 13 -->\n",
       "<g id=\"node14\" class=\"node\">\n",
       "<title>13</title>\n",
       "<polygon fill=\"none\" stroke=\"#000000\" points=\"844.5,-68 745.5,-68 745.5,0 844.5,0 844.5,-68\"/>\n",
       "<text text-anchor=\"middle\" x=\"795\" y=\"-52.8\" font-family=\"Times,serif\" font-size=\"14.00\" fill=\"#000000\">gini = 0.302</text>\n",
       "<text text-anchor=\"middle\" x=\"795\" y=\"-37.8\" font-family=\"Times,serif\" font-size=\"14.00\" fill=\"#000000\">samples = 27</text>\n",
       "<text text-anchor=\"middle\" x=\"795\" y=\"-22.8\" font-family=\"Times,serif\" font-size=\"14.00\" fill=\"#000000\">value = [5, 22]</text>\n",
       "<text text-anchor=\"middle\" x=\"795\" y=\"-7.8\" font-family=\"Times,serif\" font-size=\"14.00\" fill=\"#000000\">class = y[1]</text>\n",
       "</g>\n",
       "<!-- 12&#45;&gt;13 -->\n",
       "<g id=\"edge13\" class=\"edge\">\n",
       "<title>12&#45;&gt;13</title>\n",
       "<path fill=\"none\" stroke=\"#000000\" d=\"M800.6487,-103.9815C799.9737,-95.618 799.2616,-86.7965 798.5791,-78.3409\"/>\n",
       "<polygon fill=\"#000000\" stroke=\"#000000\" points=\"802.059,-77.9496 797.7657,-68.2637 795.0817,-78.5129 802.059,-77.9496\"/>\n",
       "</g>\n",
       "<!-- 14 -->\n",
       "<g id=\"node15\" class=\"node\">\n",
       "<title>14</title>\n",
       "<polygon fill=\"none\" stroke=\"#000000\" points=\"969,-68 863,-68 863,0 969,0 969,-68\"/>\n",
       "<text text-anchor=\"middle\" x=\"916\" y=\"-52.8\" font-family=\"Times,serif\" font-size=\"14.00\" fill=\"#000000\">gini = 0.499</text>\n",
       "<text text-anchor=\"middle\" x=\"916\" y=\"-37.8\" font-family=\"Times,serif\" font-size=\"14.00\" fill=\"#000000\">samples = 25</text>\n",
       "<text text-anchor=\"middle\" x=\"916\" y=\"-22.8\" font-family=\"Times,serif\" font-size=\"14.00\" fill=\"#000000\">value = [12, 13]</text>\n",
       "<text text-anchor=\"middle\" x=\"916\" y=\"-7.8\" font-family=\"Times,serif\" font-size=\"14.00\" fill=\"#000000\">class = y[1]</text>\n",
       "</g>\n",
       "<!-- 12&#45;&gt;14 -->\n",
       "<g id=\"edge14\" class=\"edge\">\n",
       "<title>12&#45;&gt;14</title>\n",
       "<path fill=\"none\" stroke=\"#000000\" d=\"M845.7047,-103.9815C855.0289,-94.6989 864.9197,-84.8522 874.2459,-75.5677\"/>\n",
       "<polygon fill=\"#000000\" stroke=\"#000000\" points=\"876.9651,-77.7993 881.5827,-68.2637 872.0264,-72.8385 876.9651,-77.7993\"/>\n",
       "</g>\n",
       "</g>\n",
       "</svg>\n"
      ],
      "text/plain": [
       "<graphviz.files.Source at 0x1120dc908>"
      ]
     },
     "metadata": {},
     "output_type": "display_data"
    }
   ],
   "source": [
    "columns=list(x_train.columns)\n",
    "dot_data = tree.export_graphviz(final_model ,out_file=None, feature_names=columns, class_names=True)\n",
    "display(graphviz.Source(dot_data))"
   ]
  },
  {
   "cell_type": "markdown",
   "metadata": {},
   "source": [
    "## Random Forests"
   ]
  },
  {
   "cell_type": "markdown",
   "metadata": {},
   "source": [
    "As discussed in the lecture videos, Decision Tree algorithms also have certain undesireable properties. Mainly the have low bias, which is good, but tend to have high variance - which is *not* so good (more about this problem here: https://en.wikipedia.org/wiki/Bias%E2%80%93variance_tradeoff)."
   ]
  },
  {
   "cell_type": "markdown",
   "metadata": {},
   "source": [
    "Noticing these problems, the late Professor Leo Breiman, in 2001, developed the Random Forests algorithm, which mitigates these problems, while at the same time providing even higher predictive accuracy than the majority of Decision Tree algorithm implementations. While the curriculum contains two excellent lectures on Random Forests, if you're interested, you can dive into the original paper here: https://link.springer.com/content/pdf/10.1023%2FA%3A1010933404324.pdf."
   ]
  },
  {
   "cell_type": "markdown",
   "metadata": {},
   "source": [
    "In the next part of this assignment, your are going to use the same \"German Credit\" dataset to train, tune, and measure the performance of a Random Forests model. You will also see certain functionalities that this model, even though it's a bit of a \"black box\", provides for some degree of interpretability."
   ]
  },
  {
   "cell_type": "markdown",
   "metadata": {},
   "source": [
    "First, let's build a Random Forests model, using the same best practices that you've used for your Decision Trees model. You can reuse the things you've already imported there, so no need to do any re-imports, new train/test splits, or loading up the data again."
   ]
  },
  {
   "cell_type": "code",
   "execution_count": 5,
   "metadata": {},
   "outputs": [],
   "source": [
    "from sklearn.ensemble import RandomForestClassifier"
   ]
  },
  {
   "cell_type": "code",
   "execution_count": 40,
   "metadata": {},
   "outputs": [
    {
     "name": "stdout",
     "output_type": "stream",
     "text": [
      "The accuracy score was: 0.72\n",
      "              precision    recall  f1-score   support\n",
      "\n",
      "         Bad       0.50      0.41      0.45        56\n",
      "        Good       0.79      0.84      0.81       144\n",
      "\n",
      "   micro avg       0.72      0.72      0.72       200\n",
      "   macro avg       0.64      0.63      0.63       200\n",
      "weighted avg       0.71      0.72      0.71       200\n",
      "\n"
     ]
    }
   ],
   "source": [
    "rfc_base = RandomForestClassifier(random_state = 12, n_estimators = 10)\n",
    "rfc_base.fit(x_train, y_train)\n",
    "predictions = rfc_base.predict(x_test)\n",
    "print('The accuracy score was: {}'.format(accuracy_score(y_test, predictions)))\n",
    "print(classification_report(y_test, predictions))"
   ]
  },
  {
   "cell_type": "code",
   "execution_count": 41,
   "metadata": {},
   "outputs": [
    {
     "data": {
      "text/plain": [
       "{'bootstrap': True,\n",
       " 'class_weight': None,\n",
       " 'criterion': 'gini',\n",
       " 'max_depth': None,\n",
       " 'max_features': 'auto',\n",
       " 'max_leaf_nodes': None,\n",
       " 'min_impurity_decrease': 0.0,\n",
       " 'min_impurity_split': None,\n",
       " 'min_samples_leaf': 1,\n",
       " 'min_samples_split': 2,\n",
       " 'min_weight_fraction_leaf': 0.0,\n",
       " 'n_estimators': 10,\n",
       " 'n_jobs': None,\n",
       " 'oob_score': False,\n",
       " 'random_state': 12,\n",
       " 'verbose': 0,\n",
       " 'warm_start': False}"
      ]
     },
     "execution_count": 41,
     "metadata": {},
     "output_type": "execute_result"
    }
   ],
   "source": [
    "rfc_base.get_params()"
   ]
  },
  {
   "cell_type": "code",
   "execution_count": 30,
   "metadata": {},
   "outputs": [],
   "source": [
    "from hyperopt import fmin, tpe, hp, STATUS_OK, Trials\n",
    "from hyperopt.pyll import scope\n",
    "from hyperopt.pyll.stochastic import sample\n",
    "from sklearn.model_selection import cross_val_score\n",
    "import numpy as np"
   ]
  },
  {
   "cell_type": "code",
   "execution_count": 78,
   "metadata": {},
   "outputs": [],
   "source": [
    "hyperopt_space = {'criterion' : hp.choice('criterion', ['gini', 'entropy']),\n",
    "                  'n_estimators' : hp.choice('n_estimators', range(10, 200)),\n",
    "                  'max_depth' : hp.choice('max_depth', range(1, 15)),\n",
    "                  'max_features' : hp.choice('max_features', range(1, 50)),\n",
    "                  'bootstrap' : hp.choice('bootstrap', [True, False]),\n",
    "                 }\n",
    "\n",
    "def rfc_optimizer(param_space, x_train, y_train, x_test, y_test, num_eval):\n",
    "    \n",
    "    def objective(params):\n",
    "        rfc = RandomForestClassifier(**params)\n",
    "        score = cross_val_score(rfc, x_train, y_train, cv = 10).mean()\n",
    "        return({'loss' : -score, 'status' : STATUS_OK})\n",
    "    \n",
    "    trials = Trials()\n",
    "    \n",
    "    best_params = fmin(objective, param_space, algo = tpe.suggest, max_evals = num_eval, trials = trials,\n",
    "                      rstate = np.random.RandomState(32))\n",
    "    loss = [i['result']['loss'] for i in trials.trials]\n",
    "    \n",
    "    bpv = [j for j in best_params.values()]\n",
    "    \n",
    "    if bpv[0] == 0:\n",
    "        bpv[0] = True\n",
    "    else:\n",
    "        bpv[0] = False\n",
    "        \n",
    "    if bpv[1] == 0:\n",
    "        bpv[1] = 'gini'\n",
    "    else:\n",
    "        bpv[1] = 'entropy'\n",
    "    \n",
    "    rfc_optimized = RandomForestClassifier(bootstrap = bpv[0], criterion = bpv[1], max_depth = bpv[2], \n",
    "                                          max_features = bpv[3], n_estimators = bpv[4], random_state = 32)\n",
    "    rfc_optimized.fit(x_train, y_train)\n",
    "    \n",
    "    predicted = rfc_optimized.predict(x_test)\n",
    "    \n",
    "    print('The best parameters were {}'.format(best_params))\n",
    "    print()\n",
    "    print('The best cross-validated score achieved was: {}'.format((min(loss) * -1)))\n",
    "    print()\n",
    "    print('The accuracy score on the test data was: {}'.format(accuracy_score(y_test, predicted)))\n",
    "    print()\n",
    "    print(classification_report(y_test, predicted))\n"
   ]
  },
  {
   "cell_type": "code",
   "execution_count": 79,
   "metadata": {},
   "outputs": [
    {
     "name": "stdout",
     "output_type": "stream",
     "text": [
      "100%|██████████| 75/75 [02:08<00:00,  1.13it/s, best loss: -0.7673943194249101]\n",
      "The best parameters were {'bootstrap': 0, 'criterion': 0, 'max_depth': 9, 'max_features': 15, 'n_estimators': 54}\n",
      "\n",
      "The best cross-validated score achieved was: 0.7673943194249101\n",
      "\n",
      "The accuracy score on the test data was: 0.755\n",
      "\n",
      "              precision    recall  f1-score   support\n",
      "\n",
      "         Bad       0.60      0.38      0.46        56\n",
      "        Good       0.79      0.90      0.84       144\n",
      "\n",
      "   micro avg       0.76      0.76      0.76       200\n",
      "   macro avg       0.69      0.64      0.65       200\n",
      "weighted avg       0.74      0.76      0.74       200\n",
      "\n"
     ]
    }
   ],
   "source": [
    "rfc_optimizer(hyperopt_space, x_train, y_train, x_test, y_test, num_eval = 75)"
   ]
  },
  {
   "cell_type": "code",
   "execution_count": 83,
   "metadata": {},
   "outputs": [
    {
     "name": "stdout",
     "output_type": "stream",
     "text": [
      "Scoring Metric Used: accuracy\n",
      "\n",
      "The best score was: 0.77125\n",
      "\n",
      "The best parameters were: {'max_depth': 9, 'max_features': 13, 'n_estimators': 55}\n",
      "\n",
      "The accuracy score was: 0.74\n",
      "\n",
      "              precision    recall  f1-score   support\n",
      "\n",
      "         Bad       0.55      0.39      0.46        56\n",
      "        Good       0.79      0.88      0.83       144\n",
      "\n",
      "   micro avg       0.74      0.74      0.74       200\n",
      "   macro avg       0.67      0.63      0.64       200\n",
      "weighted avg       0.72      0.74      0.73       200\n",
      "\n",
      "Scoring Metric Used: precision_macro\n",
      "\n",
      "The best score was: 0.7571825287611432\n",
      "\n",
      "The best parameters were: {'max_depth': 10, 'max_features': 15, 'n_estimators': 52}\n",
      "\n",
      "The accuracy score was: 0.755\n",
      "\n",
      "              precision    recall  f1-score   support\n",
      "\n",
      "         Bad       0.60      0.38      0.46        56\n",
      "        Good       0.79      0.90      0.84       144\n",
      "\n",
      "   micro avg       0.76      0.76      0.76       200\n",
      "   macro avg       0.69      0.64      0.65       200\n",
      "weighted avg       0.74      0.76      0.74       200\n",
      "\n",
      "Scoring Metric Used: recall_macro\n",
      "\n",
      "The best score was: 0.680632639406077\n",
      "\n",
      "The best parameters were: {'max_depth': 9, 'max_features': 13, 'n_estimators': 55}\n",
      "\n",
      "The accuracy score was: 0.74\n",
      "\n",
      "              precision    recall  f1-score   support\n",
      "\n",
      "         Bad       0.55      0.39      0.46        56\n",
      "        Good       0.79      0.88      0.83       144\n",
      "\n",
      "   micro avg       0.74      0.74      0.74       200\n",
      "   macro avg       0.67      0.63      0.64       200\n",
      "weighted avg       0.72      0.74      0.73       200\n",
      "\n",
      "Scoring Metric Used: f1_macro\n",
      "\n",
      "The best score was: 0.6920279610656754\n",
      "\n",
      "The best parameters were: {'max_depth': 10, 'max_features': 15, 'n_estimators': 52}\n",
      "\n",
      "The accuracy score was: 0.755\n",
      "\n",
      "              precision    recall  f1-score   support\n",
      "\n",
      "         Bad       0.60      0.38      0.46        56\n",
      "        Good       0.79      0.90      0.84       144\n",
      "\n",
      "   micro avg       0.76      0.76      0.76       200\n",
      "   macro avg       0.69      0.64      0.65       200\n",
      "weighted avg       0.74      0.76      0.74       200\n",
      "\n"
     ]
    }
   ],
   "source": [
    "metrics = ['accuracy', 'precision_macro', 'recall_macro', 'f1_macro']\n",
    "\n",
    "parameter_grid = {\n",
    "                 'n_estimators' : range(52, 56, 1),\n",
    "                 'max_depth' : range(7, 11, 1),\n",
    "                 'max_features' : range(12, 16, 1),\n",
    "                 }\n",
    "for metric in metrics:\n",
    "    rfc = RandomForestClassifier(bootstrap = True, criterion = 'gini', random_state = 7)\n",
    "    best_model = GridSearchCV(rfc, param_grid = parameter_grid, cv = cross_validation, scoring = metric)\n",
    "    best_model.fit(x_train, y_train)\n",
    "    print('Scoring Metric Used: {}'.format(metric))\n",
    "    print()\n",
    "    print('The best score was: {}'.format(best_model.best_score_))\n",
    "    print()\n",
    "    print('The best parameters were: {}'.format(best_model.best_params_))\n",
    "    print()\n",
    "    predictions = best_model.predict(x_test)\n",
    "    print('The accuracy score was: {}'.format(accuracy_score(y_test, predictions)))\n",
    "    print()\n",
    "    print(classification_report(y_test, predictions))"
   ]
  },
  {
   "cell_type": "code",
   "execution_count": 6,
   "metadata": {},
   "outputs": [
    {
     "name": "stdout",
     "output_type": "stream",
     "text": [
      "The accuracy score on the test set was: 0.755\n",
      "\n",
      "              precision    recall  f1-score   support\n",
      "\n",
      "         Bad       0.60      0.38      0.46        56\n",
      "        Good       0.79      0.90      0.84       144\n",
      "\n",
      "   micro avg       0.76      0.76      0.76       200\n",
      "   macro avg       0.69      0.64      0.65       200\n",
      "weighted avg       0.74      0.76      0.74       200\n",
      "\n"
     ]
    }
   ],
   "source": [
    "final_forest = RandomForestClassifier(bootstrap = True, criterion = 'gini', max_depth = 9, max_features = 15,\n",
    "                                     n_estimators = 54, random_state = 32)\n",
    "final_forest.fit(x_train, y_train)\n",
    "predictions = final_forest.predict(x_test)\n",
    "print('The accuracy score on the test set was: {}'.format(accuracy_score(y_test, predictions)))\n",
    "print()\n",
    "print(classification_report(y_test, predictions))"
   ]
  },
  {
   "cell_type": "markdown",
   "metadata": {},
   "source": [
    "As mentioned, there are certain ways to \"peek\" into a model created by the Random Forests algorithm. The first, and most popular one, is the Feature Importance calculation functionality. This allows the ML practitioner to see an ordering of the importance of the features that have contributed the most to the predictive accuracy of the model. \n",
    "\n",
    "You can see how to use this in the scikit-learn documentation (http://scikit-learn.org/stable/modules/generated/sklearn.ensemble.RandomForestClassifier.html#sklearn.ensemble.RandomForestClassifier.feature_importances_). Now, if you tried this, you would just get an ordered table of not directly interpretable numeric values. Thus, it's much more useful to show the feature importance in a visual way. You can see an example of how that's done here: http://scikit-learn.org/stable/auto_examples/ensemble/plot_forest_importances.html#sphx-glr-auto-examples-ensemble-plot-forest-importances-py\n",
    "\n",
    "Now you try! Let's visualize the importance of features from your Random Forests model!"
   ]
  },
  {
   "cell_type": "code",
   "execution_count": 7,
   "metadata": {},
   "outputs": [],
   "source": [
    "import numpy as np\n",
    "import matplotlib.pyplot as plt"
   ]
  },
  {
   "cell_type": "code",
   "execution_count": 8,
   "metadata": {},
   "outputs": [],
   "source": [
    "importances = final_forest.feature_importances_"
   ]
  },
  {
   "cell_type": "code",
   "execution_count": 9,
   "metadata": {},
   "outputs": [],
   "source": [
    "indices = np.argsort(importances)[::-1]"
   ]
  },
  {
   "cell_type": "code",
   "execution_count": 10,
   "metadata": {},
   "outputs": [
    {
     "data": {
      "text/plain": [
       "([<matplotlib.axis.XTick at 0x1a2637c400>,\n",
       "  <matplotlib.axis.XTick at 0x1a2627dda0>,\n",
       "  <matplotlib.axis.XTick at 0x1a2635fa58>,\n",
       "  <matplotlib.axis.XTick at 0x1a26429cc0>,\n",
       "  <matplotlib.axis.XTick at 0x1a264390b8>,\n",
       "  <matplotlib.axis.XTick at 0x1a26439518>,\n",
       "  <matplotlib.axis.XTick at 0x1a264399e8>,\n",
       "  <matplotlib.axis.XTick at 0x1a26439eb8>,\n",
       "  <matplotlib.axis.XTick at 0x1a2643f3c8>,\n",
       "  <matplotlib.axis.XTick at 0x1a2643f898>,\n",
       "  <matplotlib.axis.XTick at 0x1a2643fd68>,\n",
       "  <matplotlib.axis.XTick at 0x1a264482b0>,\n",
       "  <matplotlib.axis.XTick at 0x1a264487b8>,\n",
       "  <matplotlib.axis.XTick at 0x1a2643f978>,\n",
       "  <matplotlib.axis.XTick at 0x1a264394e0>,\n",
       "  <matplotlib.axis.XTick at 0x1a264480b8>,\n",
       "  <matplotlib.axis.XTick at 0x1a2644f0b8>,\n",
       "  <matplotlib.axis.XTick at 0x1a2644f550>,\n",
       "  <matplotlib.axis.XTick at 0x1a2644fa58>,\n",
       "  <matplotlib.axis.XTick at 0x1a2644ff60>,\n",
       "  <matplotlib.axis.XTick at 0x1a264574a8>,\n",
       "  <matplotlib.axis.XTick at 0x1a264579b0>,\n",
       "  <matplotlib.axis.XTick at 0x1a26457eb8>,\n",
       "  <matplotlib.axis.XTick at 0x1a2644fb38>,\n",
       "  <matplotlib.axis.XTick at 0x1a26448e80>,\n",
       "  <matplotlib.axis.XTick at 0x1a264622b0>,\n",
       "  <matplotlib.axis.XTick at 0x1a264627b8>,\n",
       "  <matplotlib.axis.XTick at 0x1a26462cc0>,\n",
       "  <matplotlib.axis.XTick at 0x1a26469208>,\n",
       "  <matplotlib.axis.XTick at 0x1a26469710>,\n",
       "  <matplotlib.axis.XTick at 0x1a26469c18>,\n",
       "  <matplotlib.axis.XTick at 0x1a26469a90>,\n",
       "  <matplotlib.axis.XTick at 0x1a26462ac8>,\n",
       "  <matplotlib.axis.XTick at 0x1a2644fa20>,\n",
       "  <matplotlib.axis.XTick at 0x1a264715f8>,\n",
       "  <matplotlib.axis.XTick at 0x1a26471b00>,\n",
       "  <matplotlib.axis.XTick at 0x1a264780b8>,\n",
       "  <matplotlib.axis.XTick at 0x1a26478550>,\n",
       "  <matplotlib.axis.XTick at 0x1a26478a58>,\n",
       "  <matplotlib.axis.XTick at 0x1a26478f60>,\n",
       "  <matplotlib.axis.XTick at 0x1a264804a8>,\n",
       "  <matplotlib.axis.XTick at 0x1a26478358>,\n",
       "  <matplotlib.axis.XTick at 0x1a26471550>,\n",
       "  <matplotlib.axis.XTick at 0x1a26480400>,\n",
       "  <matplotlib.axis.XTick at 0x1a264809e8>,\n",
       "  <matplotlib.axis.XTick at 0x1a26480ef0>,\n",
       "  <matplotlib.axis.XTick at 0x1a26489438>,\n",
       "  <matplotlib.axis.XTick at 0x1a26489940>,\n",
       "  <matplotlib.axis.XTick at 0x1a26489e48>,\n",
       "  <matplotlib.axis.XTick at 0x1a26490390>,\n",
       "  <matplotlib.axis.XTick at 0x1a26489f28>,\n",
       "  <matplotlib.axis.XTick at 0x1a26480470>,\n",
       "  <matplotlib.axis.XTick at 0x1a26490828>,\n",
       "  <matplotlib.axis.XTick at 0x1a26490be0>,\n",
       "  <matplotlib.axis.XTick at 0x1a2649a160>,\n",
       "  <matplotlib.axis.XTick at 0x1a2649a630>,\n",
       "  <matplotlib.axis.XTick at 0x1a2649ab38>,\n",
       "  <matplotlib.axis.XTick at 0x1a264a30f0>,\n",
       "  <matplotlib.axis.XTick at 0x1a264a3588>,\n",
       "  <matplotlib.axis.XTick at 0x1a2649a710>,\n",
       "  <matplotlib.axis.XTick at 0x1a264909e8>],\n",
       " <a list of 61 Text xticklabel objects>)"
      ]
     },
     "execution_count": 10,
     "metadata": {},
     "output_type": "execute_result"
    },
    {
     "data": {
      "image/png": "[encoded data removed]",
      "text/plain": [
       "<Figure size 1440x1440 with 1 Axes>"
      ]
     },
     "metadata": {
      "needs_background": "light"
     },
     "output_type": "display_data"
    }
   ],
   "source": [
    "plt.figure(figsize = (20,20))\n",
    "plt.bar(range(x_train.shape[1]), importances[indices],\n",
    "       color=\"r\", align=\"center\")\n",
    "plt.xticks(range(x_train.shape[1]), indices)"
   ]
  },
  {
   "cell_type": "markdown",
   "metadata": {},
   "source": [
    "A final method for gaining some insight into the inner working of your Random Forests models is a so-called Partial Dependence Plot. The Partial Dependence Plot (PDP or PD plot) shows the marginal effect of a feature on the predicted outcome of a previously fit model. The prediction function is fixed at a few values of the chosen features and averaged over the other features. A partial dependence plot can show if the relationship between the target and a feature is linear, monotonic or more complex. \n",
    "\n",
    "In scikit-learn, PDPs are implemented and available for certain algorithms, but at this point (version 0.20.0) they are not yet implemented for Random Forests. Thankfully, there is an add-on package called **PDPbox** (https://pdpbox.readthedocs.io/en/latest/) which adds this functionality to Random Forests. The package is easy to install through pip."
   ]
  },
  {
   "cell_type": "markdown",
   "metadata": {},
   "source": [
    "While we encourage you to read the documentation for the package (and reading package documentation in general is a good habit to develop), the authors of the package have also written an excellent blog post on how to use it, showing examples on different algorithms from scikit-learn (the Random Forests example is towards the end of the blog post): https://briangriner.github.io/Partial_Dependence_Plots_presentation-BrianGriner-PrincetonPublicLibrary-4.14.18-updated-4.22.18.html"
   ]
  },
  {
   "cell_type": "markdown",
   "metadata": {},
   "source": [
    "So, armed with this new knowledge, feel free to pick a few features, and make a couple of Partial Dependence Plots of your own!"
   ]
  },
  {
   "cell_type": "code",
   "execution_count": 11,
   "metadata": {},
   "outputs": [],
   "source": [
    "import pdpbox\n",
    "from pdpbox import pdp"
   ]
  },
  {
   "cell_type": "code",
   "execution_count": 12,
   "metadata": {},
   "outputs": [],
   "source": [
    "pdp_dur_amt = pdp.pdp_interact(model = final_forest, dataset = x_train, \n",
    "                               model_features = x_train.columns, features = ['Duration','Amount'])"
   ]
  },
  {
   "cell_type": "code",
   "execution_count": 13,
   "metadata": {},
   "outputs": [
    {
     "data": {
      "text/plain": [
       "(<Figure size 756x900 with 5 Axes>,\n",
       " {'title_ax': <matplotlib.axes._subplots.AxesSubplot at 0x1a2788e080>,\n",
       "  'pdp_inter_ax': {'_pdp_x_ax': <matplotlib.axes._subplots.AxesSubplot at 0x1a27964358>,\n",
       "   '_pdp_y_ax': <matplotlib.axes._subplots.AxesSubplot at 0x1a27704438>,\n",
       "   '_pdp_inter_ax': <matplotlib.axes._subplots.AxesSubplot at 0x1a279aa128>}})"
      ]
     },
     "execution_count": 13,
     "metadata": {},
     "output_type": "execute_result"
    },
    {
     "data": {
      "image/png": "[encoded data removed]",
      "text/plain": [
       "<Figure size 756x900 with 5 Axes>"
      ]
     },
     "metadata": {
      "needs_background": "light"
     },
     "output_type": "display_data"
    }
   ],
   "source": [
    "plot_params = { # plot title and subtitle\n",
    "    'title': 'PDP interact for \"%s\" and \"%s\"',\n",
    "    'subtitle': 'Number of unique grid points: (%s: %d, %s: %d)',\n",
    "    'title_fontsize': 15,\n",
    "    'subtitle_fontsize': 12,\n",
    "    # color for contour line\n",
    "    'contour_color':  'white',\n",
    "    'font_family': 'Arial',\n",
    "    # matplotlib color map for interact plot\n",
    "    'cmap': 'viridis',\n",
    "    # fill alpha for interact plot\n",
    "    'inter_fill_alpha': 0.8,\n",
    "    # fontsize for interact plot text\n",
    "    'inter_fontsize': 9,\n",
    "}\n",
    "pdp.pdp_interact_plot(pdp_dur_amt, ['Duration','Amount'],\n",
    "                     plot_type='contour',\n",
    "                                x_quantile=True,\n",
    "                                  plot_pdp=True)\n"
   ]
  },
  {
   "cell_type": "markdown",
   "metadata": {},
   "source": [
    "## (Optional) Advanced Boosting-Based Algorithms"
   ]
  },
  {
   "cell_type": "markdown",
   "metadata": {},
   "source": [
    "As explained in the video lectures, the next generation of algorithms after Random Forests (that use Bagging, a.k.a. Bootstrap Aggregation) were developed using Boosting, and the first one of these were Gradient Boosted Machines, which are implemented in scikit-learn (http://scikit-learn.org/stable/modules/ensemble.html#gradient-tree-boosting)."
   ]
  },
  {
   "cell_type": "markdown",
   "metadata": {},
   "source": [
    "Still, in recent years, a number of variations on GBMs have been developed by different research amd industry groups, all of them bringing improvements, both in speed, accuracy and functionality to the original Gradient Boosting algorithms.\n",
    "\n",
    "In no order of preference, these are:\n",
    "1. **XGBoost**: https://xgboost.readthedocs.io/en/latest/\n",
    "2. **CatBoost**: https://tech.yandex.com/catboost/\n",
    "3. **LightGBM**: https://lightgbm.readthedocs.io/en/latest/"
   ]
  },
  {
   "cell_type": "code",
   "execution_count": 35,
   "metadata": {},
   "outputs": [],
   "source": [
    "import xgboost as xgb\n",
    "from xgboost import XGBClassifier"
   ]
  },
  {
   "cell_type": "code",
   "execution_count": 47,
   "metadata": {},
   "outputs": [],
   "source": [
    "xbc = XGBClassifier()"
   ]
  },
  {
   "cell_type": "code",
   "execution_count": 51,
   "metadata": {},
   "outputs": [
    {
     "data": {
      "text/plain": [
       "{'base_score': 0.5,\n",
       " 'booster': 'gbtree',\n",
       " 'colsample_bylevel': 1,\n",
       " 'colsample_bynode': 1,\n",
       " 'colsample_bytree': 1,\n",
       " 'gamma': 0,\n",
       " 'learning_rate': 0.1,\n",
       " 'max_delta_step': 0,\n",
       " 'max_depth': 3,\n",
       " 'min_child_weight': 1,\n",
       " 'missing': None,\n",
       " 'n_estimators': 100,\n",
       " 'nthread': 1,\n",
       " 'objective': 'binary:logistic',\n",
       " 'reg_alpha': 0,\n",
       " 'reg_lambda': 1,\n",
       " 'scale_pos_weight': 1,\n",
       " 'seed': 0,\n",
       " 'subsample': 1,\n",
       " 'verbosity': 1}"
      ]
     },
     "execution_count": 51,
     "metadata": {},
     "output_type": "execute_result"
    }
   ],
   "source": [
    "xbc.get_xgb_params()"
   ]
  },
  {
   "cell_type": "code",
   "execution_count": 40,
   "metadata": {},
   "outputs": [],
   "source": [
    "from sklearn.preprocessing import LabelEncoder"
   ]
  },
  {
   "cell_type": "code",
   "execution_count": 41,
   "metadata": {},
   "outputs": [
    {
     "name": "stdout",
     "output_type": "stream",
     "text": [
      "['Bad' 'Good']\n"
     ]
    }
   ],
   "source": [
    "le = LabelEncoder()\n",
    "le.fit(y_train)\n",
    "y_train_n = le.transform(y_train)\n",
    "print(le.classes_)"
   ]
  },
  {
   "cell_type": "code",
   "execution_count": 43,
   "metadata": {},
   "outputs": [],
   "source": [
    "y_test_n = le.transform(y_test)"
   ]
  },
  {
   "cell_type": "code",
   "execution_count": 42,
   "metadata": {},
   "outputs": [],
   "source": [
    "dtrain = xgb.DMatrix(x_train, label = y_train_n)"
   ]
  },
  {
   "cell_type": "code",
   "execution_count": 44,
   "metadata": {},
   "outputs": [],
   "source": [
    "dtest = xgb.DMatrix(x_test, label = y_test_n)"
   ]
  },
  {
   "cell_type": "code",
   "execution_count": 60,
   "metadata": {},
   "outputs": [],
   "source": [
    "def xgb_optimize(x_train, y_train, num_eval):\n",
    "    xgb_space = {'objective' : 'binary:logistic',\n",
    "            'verbosity' : 0,\n",
    "            'booster' : 'gbtree',\n",
    "            'max_depth' : scope.int(hp.quniform('max_depth', 3, 10, 1)),\n",
    "            'gamma' : hp.uniform('gamma', 0, 0.5),\n",
    "            'n_estimators' : scope.int(hp.quniform('n_estimators', 10, 1000, 1)),\n",
    "            'min_child_weight' : scope.int(hp.quniform('min_child_weight', 1, 6, 1)),\n",
    "            'subsample' : hp.uniform('subsample', 0.5, 0.8),\n",
    "            'colsample_bytree' : hp.uniform('colsample_bytree', 0.5, 0.8),\n",
    "            'learning_rate' : hp.uniform('learning_rate', 0.01, 0.2),\n",
    "            'random_state' : 43\n",
    "                }\n",
    "    dtrain = xgb.DMatrix(x_train, label = y_train)\n",
    "    \n",
    "    def xgb_objective(params):\n",
    "        xbc = XGBClassifier(**params)\n",
    "        current_params = xbc.get_xgb_params()\n",
    "        cv_results = xgb.cv(current_params, dtrain, num_boost_round = xbc.get_params()['n_estimators'],\n",
    "                           nfold = 5, metrics = 'auc', early_stopping_rounds = 50)\n",
    "        score = cv_results.iloc[-1]['test-auc-mean']\n",
    "        return({'loss' : -score, 'status' : STATUS_OK})\n",
    "    \n",
    "    trials = Trials()\n",
    "    \n",
    "    best_params = fmin(xgb_objective, xgb_space, algo = tpe.suggest, max_evals = num_eval, trials = trials)\n",
    "    \n",
    "    return(best_params)\n",
    "    \n",
    "    \n",
    "    \n",
    "    \n",
    "    "
   ]
  },
  {
   "cell_type": "code",
   "execution_count": 61,
   "metadata": {},
   "outputs": [
    {
     "name": "stdout",
     "output_type": "stream",
     "text": [
      "100%|██████████| 50/50 [01:03<00:00,  1.11s/it, best loss: -0.7815565999999999]\n"
     ]
    }
   ],
   "source": [
    "p = xgb_optimize(x_train, y_train_n, 50)"
   ]
  },
  {
   "cell_type": "code",
   "execution_count": 62,
   "metadata": {},
   "outputs": [
    {
     "data": {
      "text/plain": [
       "{'colsample_bytree': 0.6056711629975825,\n",
       " 'gamma': 0.014825446775033974,\n",
       " 'learning_rate': 0.13750697150561061,\n",
       " 'max_depth': 5.0,\n",
       " 'min_child_weight': 5.0,\n",
       " 'n_estimators': 963.0,\n",
       " 'subsample': 0.7129382868920042}"
      ]
     },
     "execution_count": 62,
     "metadata": {},
     "output_type": "execute_result"
    }
   ],
   "source": [
    "p"
   ]
  },
  {
   "cell_type": "code",
   "execution_count": 63,
   "metadata": {},
   "outputs": [],
   "source": [
    "colsample = p['colsample_bytree']\n",
    "gamma = p['gamma']\n",
    "learning_rate = p['learning_rate']\n",
    "max_depth = int(p['max_depth'])\n",
    "min_child_weight = int(p['min_child_weight'])\n",
    "n_estimators = int(p['n_estimators'])\n",
    "subsample = p['subsample']"
   ]
  },
  {
   "cell_type": "code",
   "execution_count": 64,
   "metadata": {},
   "outputs": [],
   "source": [
    "xbc_optimal = XGBClassifier(booster = 'gbtree', verbosity = 0, objective = 'binary:logistic', random_state = 43,\n",
    "                           colsample_bytree = colsample, gamma = gamma, learning_rate = learning_rate, \n",
    "                           max_depth = max_depth, min_child_weight = min_child_weight, n_estimators = n_estimators,\n",
    "                           subsample = subsample)"
   ]
  },
  {
   "cell_type": "code",
   "execution_count": 65,
   "metadata": {},
   "outputs": [
    {
     "data": {
      "text/plain": [
       "XGBClassifier(base_score=0.5, booster='gbtree', colsample_bylevel=1,\n",
       "       colsample_bynode=1, colsample_bytree=0.6056711629975825,\n",
       "       gamma=0.014825446775033974, learning_rate=0.13750697150561061,\n",
       "       max_delta_step=0, max_depth=5, min_child_weight=5, missing=None,\n",
       "       n_estimators=963, n_jobs=1, nthread=None,\n",
       "       objective='binary:logistic', random_state=43, reg_alpha=0,\n",
       "       reg_lambda=1, scale_pos_weight=1, seed=None, silent=None,\n",
       "       subsample=0.7129382868920042, verbosity=0)"
      ]
     },
     "execution_count": 65,
     "metadata": {},
     "output_type": "execute_result"
    }
   ],
   "source": [
    "xbc_optimal.fit(x_train, y_train_n)"
   ]
  },
  {
   "cell_type": "code",
   "execution_count": 66,
   "metadata": {},
   "outputs": [],
   "source": [
    "predictions = xbc_optimal.predict(x_test)"
   ]
  },
  {
   "cell_type": "code",
   "execution_count": 69,
   "metadata": {},
   "outputs": [
    {
     "name": "stdout",
     "output_type": "stream",
     "text": [
      "              precision    recall  f1-score   support\n",
      "\n",
      "           0       0.51      0.54      0.52        56\n",
      "           1       0.82      0.80      0.81       144\n",
      "\n",
      "   micro avg       0.72      0.72      0.73       200\n",
      "   macro avg       0.66      0.67      0.66       200\n",
      "weighted avg       0.73      0.72      0.73       200\n",
      "\n"
     ]
    },
    {
     "data": {
      "text/plain": [
       "0.725"
      ]
     },
     "execution_count": 69,
     "metadata": {},
     "output_type": "execute_result"
    }
   ],
   "source": [
    "print(classification_report(y_test_n, predictions))\n",
    "accuracy_score(y_test_n, predictions)"
   ]
  },
  {
   "cell_type": "code",
   "execution_count": 70,
   "metadata": {},
   "outputs": [
    {
     "data": {
      "text/plain": [
       "XGBClassifier(base_score=0.5, booster='gbtree', colsample_bylevel=1,\n",
       "       colsample_bynode=1, colsample_bytree=1, gamma=0, learning_rate=0.1,\n",
       "       max_delta_step=0, max_depth=3, min_child_weight=1, missing=None,\n",
       "       n_estimators=100, n_jobs=1, nthread=None,\n",
       "       objective='binary:logistic', random_state=52, reg_alpha=0,\n",
       "       reg_lambda=1, scale_pos_weight=1, seed=None, silent=None,\n",
       "       subsample=1, verbosity=1)"
      ]
     },
     "execution_count": 70,
     "metadata": {},
     "output_type": "execute_result"
    }
   ],
   "source": [
    "xbc = XGBClassifier(random_state = 52)\n",
    "xbc.fit(x_train, y_train_n)"
   ]
  },
  {
   "cell_type": "code",
   "execution_count": 71,
   "metadata": {},
   "outputs": [
    {
     "name": "stdout",
     "output_type": "stream",
     "text": [
      "              precision    recall  f1-score   support\n",
      "\n",
      "           0       0.62      0.55      0.58        56\n",
      "           1       0.83      0.87      0.85       144\n",
      "\n",
      "   micro avg       0.78      0.78      0.78       200\n",
      "   macro avg       0.73      0.71      0.72       200\n",
      "weighted avg       0.77      0.78      0.78       200\n",
      "\n"
     ]
    },
    {
     "data": {
      "text/plain": [
       "0.78"
      ]
     },
     "execution_count": 71,
     "metadata": {},
     "output_type": "execute_result"
    }
   ],
   "source": [
    "pred = xbc.predict(x_test)\n",
    "print(classification_report(y_test_n, pred))\n",
    "accuracy_score(y_test_n, pred)"
   ]
  },
  {
   "cell_type": "code",
   "execution_count": 57,
   "metadata": {},
   "outputs": [
    {
     "data": {
      "text/plain": [
       "numpy.float64"
      ]
     },
     "execution_count": 57,
     "metadata": {},
     "output_type": "execute_result"
    }
   ],
   "source": [
    "type(cv_results.iloc[-1]['test-auc-mean'])"
   ]
  },
  {
   "cell_type": "markdown",
   "metadata": {},
   "source": [
    "If you're using the Anaconda distribution, these are all very easy to install:"
   ]
  },
  {
   "cell_type": "markdown",
   "metadata": {},
   "source": [
    "Your task in this optional section of the mini project is to read the documentation of these three libraries, and apply all of them to the \"German Credit\" dataset, just like you did in the case of Decision Trees and Random Forests."
   ]
  },
  {
   "cell_type": "markdown",
   "metadata": {},
   "source": [
    "The final deliverable of this section should be a table (can be a pandas DataFrame) which shows the accuracy of all the five algorthms taught in this mini project in one place."
   ]
  },
  {
   "cell_type": "markdown",
   "metadata": {},
   "source": [
    "Happy modeling! :)"
   ]
  }
 ],
 "metadata": {
  "kernelspec": {
   "display_name": "Python 3",
   "language": "python",
   "name": "python3"
  },
  "language_info": {
   "codemirror_mode": {
    "name": "ipython",
    "version": 3
   },
   "file_extension": ".py",
   "mimetype": "text/x-python",
   "name": "python",
   "nbconvert_exporter": "python",
   "pygments_lexer": "ipython3",
   "version": "3.7.3"
  }
 },
 "nbformat": 4,
 "nbformat_minor": 2
}
